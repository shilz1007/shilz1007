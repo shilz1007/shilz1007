{
  "nbformat": 4,
  "nbformat_minor": 0,
  "metadata": {
    "colab": {
      "provenance": [],
      "machine_shape": "hm",
      "mount_file_id": "1m50VLomOFYeiFN8-NxyseKo5PxtzCRnq",
      "authorship_tag": "ABX9TyN0IpYxoaHjg/JQvEIa4mPE",
      "include_colab_link": true
    },
    "kernelspec": {
      "name": "python3",
      "display_name": "Python 3"
    },
    "language_info": {
      "name": "python"
    },
    "gpuClass": "premium",
    "accelerator": "GPU"
  },
  "cells": [
    {
      "cell_type": "markdown",
      "metadata": {
        "id": "view-in-github",
        "colab_type": "text"
      },
      "source": [
        "<a href=\"https://colab.research.google.com/github/shilz1007/shilz1007/blob/main/Pointnet_Model_40.ipynb\" target=\"_parent\"><img src=\"https://colab.research.google.com/assets/colab-badge.svg\" alt=\"Open In Colab\"/></a>"
      ]
    },
    {
      "cell_type": "code",
      "source": [
        "!pip install trimesh"
      ],
      "metadata": {
        "colab": {
          "base_uri": "https://localhost:8080/"
        },
        "id": "Ev-gnCO2wFFI",
        "outputId": "179532ee-df27-48aa-b0c2-09f9159a8e91"
      },
      "execution_count": null,
      "outputs": [
        {
          "output_type": "stream",
          "name": "stdout",
          "text": [
            "Looking in indexes: https://pypi.org/simple, https://us-python.pkg.dev/colab-wheels/public/simple/\n",
            "Collecting trimesh\n",
            "  Downloading trimesh-3.16.4-py3-none-any.whl (663 kB)\n",
            "\u001b[K     |████████████████████████████████| 663 kB 4.6 MB/s \n",
            "\u001b[?25hRequirement already satisfied: numpy in /usr/local/lib/python3.7/dist-packages (from trimesh) (1.21.6)\n",
            "Installing collected packages: trimesh\n",
            "Successfully installed trimesh-3.16.4\n"
          ]
        }
      ]
    },
    {
      "cell_type": "code",
      "source": [
        "!pip install tensorflow_graphics"
      ],
      "metadata": {
        "colab": {
          "base_uri": "https://localhost:8080/",
          "height": 1000
        },
        "id": "0qhpZyF7wMGd",
        "outputId": "46cd3819-bda3-40d1-cd61-8f864e3aca23"
      },
      "execution_count": null,
      "outputs": [
        {
          "output_type": "stream",
          "name": "stdout",
          "text": [
            "Looking in indexes: https://pypi.org/simple, https://us-python.pkg.dev/colab-wheels/public/simple/\n",
            "Collecting tensorflow_graphics\n",
            "  Downloading tensorflow_graphics-2021.12.3-py3-none-any.whl (4.3 MB)\n",
            "\u001b[K     |████████████████████████████████| 4.3 MB 3.3 MB/s \n",
            "\u001b[?25hRequirement already satisfied: h5py>=2.10.0 in /usr/local/lib/python3.7/dist-packages (from tensorflow_graphics) (3.1.0)\n",
            "Requirement already satisfied: tensorflow-datasets>=2.0.0 in /usr/local/lib/python3.7/dist-packages (from tensorflow_graphics) (4.6.0)\n",
            "Requirement already satisfied: numpy>=1.15.4 in /usr/local/lib/python3.7/dist-packages (from tensorflow_graphics) (1.21.6)\n",
            "Requirement already satisfied: termcolor>=1.1.0 in /usr/local/lib/python3.7/dist-packages (from tensorflow_graphics) (2.1.0)\n",
            "Requirement already satisfied: absl-py>=0.6.1 in /usr/local/lib/python3.7/dist-packages (from tensorflow_graphics) (1.3.0)\n",
            "Requirement already satisfied: tensorflow>=2.2.0 in /usr/local/lib/python3.7/dist-packages (from tensorflow_graphics) (2.9.2)\n",
            "Collecting psutil>=5.7.0\n",
            "  Downloading psutil-5.9.4-cp36-abi3-manylinux_2_12_x86_64.manylinux2010_x86_64.manylinux_2_17_x86_64.manylinux2014_x86_64.whl (280 kB)\n",
            "\u001b[K     |████████████████████████████████| 280 kB 78.0 MB/s \n",
            "\u001b[?25hRequirement already satisfied: matplotlib>=2.2.5 in /usr/local/lib/python3.7/dist-packages (from tensorflow_graphics) (3.2.2)\n",
            "Requirement already satisfied: scipy>=1.1.0 in /usr/local/lib/python3.7/dist-packages (from tensorflow_graphics) (1.7.3)\n",
            "Collecting OpenEXR>=1.3.2\n",
            "  Downloading OpenEXR-1.3.9.tar.gz (13 kB)\n",
            "Requirement already satisfied: networkx in /usr/local/lib/python3.7/dist-packages (from tensorflow_graphics) (2.6.3)\n",
            "Requirement already satisfied: tqdm>=4.45.0 in /usr/local/lib/python3.7/dist-packages (from tensorflow_graphics) (4.64.1)\n",
            "Requirement already satisfied: trimesh>=2.37.22 in /usr/local/lib/python3.7/dist-packages (from tensorflow_graphics) (3.16.4)\n",
            "Collecting tensorflow-addons>=0.10.0\n",
            "  Downloading tensorflow_addons-0.18.0-cp37-cp37m-manylinux_2_17_x86_64.manylinux2014_x86_64.whl (1.1 MB)\n",
            "\u001b[K     |████████████████████████████████| 1.1 MB 69.3 MB/s \n",
            "\u001b[?25hRequirement already satisfied: cached-property in /usr/local/lib/python3.7/dist-packages (from h5py>=2.10.0->tensorflow_graphics) (1.5.2)\n",
            "Requirement already satisfied: pyparsing!=2.0.4,!=2.1.2,!=2.1.6,>=2.0.1 in /usr/local/lib/python3.7/dist-packages (from matplotlib>=2.2.5->tensorflow_graphics) (3.0.9)\n",
            "Requirement already satisfied: cycler>=0.10 in /usr/local/lib/python3.7/dist-packages (from matplotlib>=2.2.5->tensorflow_graphics) (0.11.0)\n",
            "Requirement already satisfied: python-dateutil>=2.1 in /usr/local/lib/python3.7/dist-packages (from matplotlib>=2.2.5->tensorflow_graphics) (2.8.2)\n",
            "Requirement already satisfied: kiwisolver>=1.0.1 in /usr/local/lib/python3.7/dist-packages (from matplotlib>=2.2.5->tensorflow_graphics) (1.4.4)\n",
            "Requirement already satisfied: typing-extensions in /usr/local/lib/python3.7/dist-packages (from kiwisolver>=1.0.1->matplotlib>=2.2.5->tensorflow_graphics) (4.1.1)\n",
            "Requirement already satisfied: six>=1.5 in /usr/local/lib/python3.7/dist-packages (from python-dateutil>=2.1->matplotlib>=2.2.5->tensorflow_graphics) (1.15.0)\n",
            "Requirement already satisfied: google-pasta>=0.1.1 in /usr/local/lib/python3.7/dist-packages (from tensorflow>=2.2.0->tensorflow_graphics) (0.2.0)\n",
            "Requirement already satisfied: protobuf<3.20,>=3.9.2 in /usr/local/lib/python3.7/dist-packages (from tensorflow>=2.2.0->tensorflow_graphics) (3.19.6)\n",
            "Requirement already satisfied: wrapt>=1.11.0 in /usr/local/lib/python3.7/dist-packages (from tensorflow>=2.2.0->tensorflow_graphics) (1.14.1)\n",
            "Requirement already satisfied: tensorboard<2.10,>=2.9 in /usr/local/lib/python3.7/dist-packages (from tensorflow>=2.2.0->tensorflow_graphics) (2.9.1)\n",
            "Requirement already satisfied: tensorflow-io-gcs-filesystem>=0.23.1 in /usr/local/lib/python3.7/dist-packages (from tensorflow>=2.2.0->tensorflow_graphics) (0.27.0)\n",
            "Requirement already satisfied: tensorflow-estimator<2.10.0,>=2.9.0rc0 in /usr/local/lib/python3.7/dist-packages (from tensorflow>=2.2.0->tensorflow_graphics) (2.9.0)\n",
            "Requirement already satisfied: setuptools in /usr/local/lib/python3.7/dist-packages (from tensorflow>=2.2.0->tensorflow_graphics) (57.4.0)\n",
            "Requirement already satisfied: keras<2.10.0,>=2.9.0rc0 in /usr/local/lib/python3.7/dist-packages (from tensorflow>=2.2.0->tensorflow_graphics) (2.9.0)\n",
            "Requirement already satisfied: keras-preprocessing>=1.1.1 in /usr/local/lib/python3.7/dist-packages (from tensorflow>=2.2.0->tensorflow_graphics) (1.1.2)\n",
            "Requirement already satisfied: opt-einsum>=2.3.2 in /usr/local/lib/python3.7/dist-packages (from tensorflow>=2.2.0->tensorflow_graphics) (3.3.0)\n",
            "Requirement already satisfied: gast<=0.4.0,>=0.2.1 in /usr/local/lib/python3.7/dist-packages (from tensorflow>=2.2.0->tensorflow_graphics) (0.4.0)\n",
            "Requirement already satisfied: grpcio<2.0,>=1.24.3 in /usr/local/lib/python3.7/dist-packages (from tensorflow>=2.2.0->tensorflow_graphics) (1.50.0)\n",
            "Requirement already satisfied: libclang>=13.0.0 in /usr/local/lib/python3.7/dist-packages (from tensorflow>=2.2.0->tensorflow_graphics) (14.0.6)\n",
            "Requirement already satisfied: packaging in /usr/local/lib/python3.7/dist-packages (from tensorflow>=2.2.0->tensorflow_graphics) (21.3)\n",
            "Requirement already satisfied: astunparse>=1.6.0 in /usr/local/lib/python3.7/dist-packages (from tensorflow>=2.2.0->tensorflow_graphics) (1.6.3)\n",
            "Requirement already satisfied: flatbuffers<2,>=1.12 in /usr/local/lib/python3.7/dist-packages (from tensorflow>=2.2.0->tensorflow_graphics) (1.12)\n",
            "Requirement already satisfied: wheel<1.0,>=0.23.0 in /usr/local/lib/python3.7/dist-packages (from astunparse>=1.6.0->tensorflow>=2.2.0->tensorflow_graphics) (0.38.3)\n",
            "Requirement already satisfied: google-auth-oauthlib<0.5,>=0.4.1 in /usr/local/lib/python3.7/dist-packages (from tensorboard<2.10,>=2.9->tensorflow>=2.2.0->tensorflow_graphics) (0.4.6)\n",
            "Requirement already satisfied: requests<3,>=2.21.0 in /usr/local/lib/python3.7/dist-packages (from tensorboard<2.10,>=2.9->tensorflow>=2.2.0->tensorflow_graphics) (2.23.0)\n",
            "Requirement already satisfied: werkzeug>=1.0.1 in /usr/local/lib/python3.7/dist-packages (from tensorboard<2.10,>=2.9->tensorflow>=2.2.0->tensorflow_graphics) (1.0.1)\n",
            "Requirement already satisfied: google-auth<3,>=1.6.3 in /usr/local/lib/python3.7/dist-packages (from tensorboard<2.10,>=2.9->tensorflow>=2.2.0->tensorflow_graphics) (2.14.1)\n",
            "Requirement already satisfied: markdown>=2.6.8 in /usr/local/lib/python3.7/dist-packages (from tensorboard<2.10,>=2.9->tensorflow>=2.2.0->tensorflow_graphics) (3.4.1)\n",
            "Requirement already satisfied: tensorboard-plugin-wit>=1.6.0 in /usr/local/lib/python3.7/dist-packages (from tensorboard<2.10,>=2.9->tensorflow>=2.2.0->tensorflow_graphics) (1.8.1)\n",
            "Requirement already satisfied: tensorboard-data-server<0.7.0,>=0.6.0 in /usr/local/lib/python3.7/dist-packages (from tensorboard<2.10,>=2.9->tensorflow>=2.2.0->tensorflow_graphics) (0.6.1)\n",
            "Requirement already satisfied: cachetools<6.0,>=2.0.0 in /usr/local/lib/python3.7/dist-packages (from google-auth<3,>=1.6.3->tensorboard<2.10,>=2.9->tensorflow>=2.2.0->tensorflow_graphics) (5.2.0)\n",
            "Requirement already satisfied: rsa<5,>=3.1.4 in /usr/local/lib/python3.7/dist-packages (from google-auth<3,>=1.6.3->tensorboard<2.10,>=2.9->tensorflow>=2.2.0->tensorflow_graphics) (4.9)\n",
            "Requirement already satisfied: pyasn1-modules>=0.2.1 in /usr/local/lib/python3.7/dist-packages (from google-auth<3,>=1.6.3->tensorboard<2.10,>=2.9->tensorflow>=2.2.0->tensorflow_graphics) (0.2.8)\n",
            "Requirement already satisfied: requests-oauthlib>=0.7.0 in /usr/local/lib/python3.7/dist-packages (from google-auth-oauthlib<0.5,>=0.4.1->tensorboard<2.10,>=2.9->tensorflow>=2.2.0->tensorflow_graphics) (1.3.1)\n",
            "Requirement already satisfied: importlib-metadata>=4.4 in /usr/local/lib/python3.7/dist-packages (from markdown>=2.6.8->tensorboard<2.10,>=2.9->tensorflow>=2.2.0->tensorflow_graphics) (4.13.0)\n",
            "Requirement already satisfied: zipp>=0.5 in /usr/local/lib/python3.7/dist-packages (from importlib-metadata>=4.4->markdown>=2.6.8->tensorboard<2.10,>=2.9->tensorflow>=2.2.0->tensorflow_graphics) (3.10.0)\n",
            "Requirement already satisfied: pyasn1<0.5.0,>=0.4.6 in /usr/local/lib/python3.7/dist-packages (from pyasn1-modules>=0.2.1->google-auth<3,>=1.6.3->tensorboard<2.10,>=2.9->tensorflow>=2.2.0->tensorflow_graphics) (0.4.8)\n",
            "Requirement already satisfied: chardet<4,>=3.0.2 in /usr/local/lib/python3.7/dist-packages (from requests<3,>=2.21.0->tensorboard<2.10,>=2.9->tensorflow>=2.2.0->tensorflow_graphics) (3.0.4)\n",
            "Requirement already satisfied: certifi>=2017.4.17 in /usr/local/lib/python3.7/dist-packages (from requests<3,>=2.21.0->tensorboard<2.10,>=2.9->tensorflow>=2.2.0->tensorflow_graphics) (2022.9.24)\n",
            "Requirement already satisfied: idna<3,>=2.5 in /usr/local/lib/python3.7/dist-packages (from requests<3,>=2.21.0->tensorboard<2.10,>=2.9->tensorflow>=2.2.0->tensorflow_graphics) (2.10)\n",
            "Requirement already satisfied: urllib3!=1.25.0,!=1.25.1,<1.26,>=1.21.1 in /usr/local/lib/python3.7/dist-packages (from requests<3,>=2.21.0->tensorboard<2.10,>=2.9->tensorflow>=2.2.0->tensorflow_graphics) (1.24.3)\n",
            "Requirement already satisfied: oauthlib>=3.0.0 in /usr/local/lib/python3.7/dist-packages (from requests-oauthlib>=0.7.0->google-auth-oauthlib<0.5,>=0.4.1->tensorboard<2.10,>=2.9->tensorflow>=2.2.0->tensorflow_graphics) (3.2.2)\n",
            "Requirement already satisfied: typeguard>=2.7 in /usr/local/lib/python3.7/dist-packages (from tensorflow-addons>=0.10.0->tensorflow_graphics) (2.7.1)\n",
            "Requirement already satisfied: tensorflow-metadata in /usr/local/lib/python3.7/dist-packages (from tensorflow-datasets>=2.0.0->tensorflow_graphics) (1.10.0)\n",
            "Requirement already satisfied: dill in /usr/local/lib/python3.7/dist-packages (from tensorflow-datasets>=2.0.0->tensorflow_graphics) (0.3.6)\n",
            "Requirement already satisfied: toml in /usr/local/lib/python3.7/dist-packages (from tensorflow-datasets>=2.0.0->tensorflow_graphics) (0.10.2)\n",
            "Requirement already satisfied: promise in /usr/local/lib/python3.7/dist-packages (from tensorflow-datasets>=2.0.0->tensorflow_graphics) (2.3)\n",
            "Requirement already satisfied: importlib-resources in /usr/local/lib/python3.7/dist-packages (from tensorflow-datasets>=2.0.0->tensorflow_graphics) (5.10.0)\n",
            "Requirement already satisfied: etils[epath] in /usr/local/lib/python3.7/dist-packages (from tensorflow-datasets>=2.0.0->tensorflow_graphics) (0.9.0)\n",
            "Requirement already satisfied: googleapis-common-protos<2,>=1.52.0 in /usr/local/lib/python3.7/dist-packages (from tensorflow-metadata->tensorflow-datasets>=2.0.0->tensorflow_graphics) (1.56.4)\n",
            "Building wheels for collected packages: OpenEXR\n",
            "  Building wheel for OpenEXR (setup.py) ... \u001b[?25l\u001b[?25hdone\n",
            "  Created wheel for OpenEXR: filename=OpenEXR-1.3.9-cp37-cp37m-linux_x86_64.whl size=199487 sha256=2c3a811af9f5c3455ec787d48bfca01a4d3f72b0b2be4b22e74b1f01030f7ec0\n",
            "  Stored in directory: /root/.cache/pip/wheels/e3/31/09/2cb7b78bb1c4b2d44a6d11479c1bf7a66916253193e4f0eb90\n",
            "Successfully built OpenEXR\n",
            "Installing collected packages: tensorflow-addons, psutil, OpenEXR, tensorflow-graphics\n",
            "  Attempting uninstall: psutil\n",
            "    Found existing installation: psutil 5.4.8\n",
            "    Uninstalling psutil-5.4.8:\n",
            "      Successfully uninstalled psutil-5.4.8\n",
            "Successfully installed OpenEXR-1.3.9 psutil-5.9.4 tensorflow-addons-0.18.0 tensorflow-graphics-2021.12.3\n"
          ]
        },
        {
          "output_type": "display_data",
          "data": {
            "application/vnd.colab-display-data+json": {
              "pip_warning": {
                "packages": [
                  "psutil"
                ]
              }
            }
          },
          "metadata": {}
        }
      ]
    },
    {
      "cell_type": "code",
      "execution_count": null,
      "metadata": {
        "id": "o-ErDSksnw0K"
      },
      "outputs": [],
      "source": [
        "import trimesh\n",
        "import tensorflow as tf\n",
        "import tensorflow_graphics as tfg\n",
        "from tensorflow_graphics.datasets.modelnet40 import ModelNet40\n"
      ]
    },
    {
      "cell_type": "code",
      "source": [
        "import os\n",
        "import h5py\n",
        "import tensorflow as tf\n",
        "import tensorflow_datasets as tfds\n",
        "import matplotlib.pyplot as plt\n",
        "from mpl_toolkits.mplot3d import Axes3D  # pylint:disable=unused-import"
      ],
      "metadata": {
        "id": "T8jeijrUn_E2"
      },
      "execution_count": null,
      "outputs": []
    },
    {
      "cell_type": "code",
      "source": [
        "_LABELS = [\n",
        "    'airplane', 'bathtub', 'bed', 'bench', 'bookshelf', 'bottle', 'bowl', 'car',\n",
        "    'chair', 'cone', 'cup', 'curtain', 'desk', 'door', 'dresser', 'flower_pot',\n",
        "    'glass_box', 'guitar', 'keyboard', 'lamp', 'laptop', 'mantel', 'monitor',\n",
        "    'night_stand', 'person', 'piano', 'plant', 'radio', 'range_hood', 'sink',\n",
        "    'sofa', 'stairs', 'stool', 'table', 'tent', 'toilet', 'tv_stand', 'vase',\n",
        "    'wardrobe', 'xbox'\n",
        "]"
      ],
      "metadata": {
        "id": "_eoQkJA58_5j"
      },
      "execution_count": null,
      "outputs": []
    },
    {
      "cell_type": "code",
      "source": [
        "# Constants\n",
        "_URL = '/content/drive/MyDrive/modelnet40_ply_hdf5_2048.zip'"
      ],
      "metadata": {
        "id": "TwjvVQeVBDgu"
      },
      "execution_count": null,
      "outputs": []
    },
    {
      "cell_type": "code",
      "source": [
        "class ModelNet40(tfds.core.GeneratorBasedBuilder):\n",
        "  \"\"\"ModelNet40.\"\"\"\n",
        "\n",
        "  VERSION = tfds.core.Version('1.0.0')\n",
        "\n",
        "  @staticmethod\n",
        "  def load(*args, **kwargs):\n",
        "    return tfds.load('model_net40', *args, **kwargs)  \n",
        "\n",
        "  def _info(self):\n",
        "    return tfds.core.DatasetInfo(\n",
        "        builder=self,\n",
        "        ##description=_DESCRIPTION,\n",
        "        features=tfds.features.FeaturesDict({\n",
        "            'points': tfds.features.Tensor(shape=(2048, 3), dtype=tf.float32),\n",
        "            'label': tfds.features.ClassLabel(names=_LABELS)\n",
        "        }),\n",
        "        supervised_keys=('points', 'label'),\n",
        "        #homepage='https://modelnet.cs.princeton.edu',\n",
        "        ##citation=_CITATION,\n",
        "    )\n",
        "\n",
        "  def _split_generators(self, download_manager):\n",
        "    \"\"\"Returns SplitGenerators.\"\"\"\n",
        "\n",
        "    extracted_path = download_manager.download_and_extract(_URL)\n",
        "\n",
        "    \n",
        "    return [\n",
        "        tfds.core.SplitGenerator(\n",
        "            name=tfds.Split.TRAIN,\n",
        "            gen_kwargs=dict(\n",
        "                filename_list_path=os.path.join(\n",
        "                    extracted_path,\n",
        "                    'modelnet40_ply_hdf5_2048/train_files.txt'),)),\n",
        "        tfds.core.SplitGenerator(\n",
        "            name=tfds.Split.TEST,\n",
        "            gen_kwargs=dict(\n",
        "                filename_list_path=os.path.join(\n",
        "                    extracted_path,\n",
        "                    'modelnet40_ply_hdf5_2048/test_files.txt'),)),\n",
        "    ]\n",
        "\n",
        "  def _generate_examples(self, filename_list_path):\n",
        "    \"\"\"Yields examples.\"\"\"\n",
        "\n",
        "    ancestor_path = os.path.dirname(os.path.dirname(filename_list_path))\n",
        "    with tf.io.gfile.GFile(filename_list_path, 'r') as fid:\n",
        "      filename_list = fid.readlines()\n",
        "    filename_list = [line.rstrip()[5:] for line in filename_list]\n",
        "\n",
        "    example_key = -1  \n",
        "    for filename in filename_list:\n",
        "      h5path = os.path.join(ancestor_path, filename)\n",
        "\n",
        "      with h5py.File(h5path, 'r') as h5file:\n",
        "        points = h5file['data'][:]  # shape=(2048, 2048, 3)\n",
        "        label = h5file['label'][:]  # shape=(2048, )\n",
        "\n",
        "        models_per_file = points.shape[0]\n",
        "        for imodel in range(models_per_file):\n",
        "          example_key += 1\n",
        "          yield example_key, {\n",
        "              'points': points[imodel, :, :],\n",
        "              'label': int(label[imodel])\n",
        "          }"
      ],
      "metadata": {
        "id": "nrW4JuDy9VIO"
      },
      "execution_count": null,
      "outputs": []
    },
    {
      "cell_type": "code",
      "source": [
        "ds_train, info = ModelNet40.load(\n",
        "      split=\"train\", data_dir=\"/content/drive/MyDrive/modelnet40\", with_info=True)"
      ],
      "metadata": {
        "id": "A7AMXFXr_G9c",
        "colab": {
          "base_uri": "https://localhost:8080/"
        },
        "outputId": "83f7e565-e139-46f1-e592-40d64331c85f"
      },
      "execution_count": null,
      "outputs": [
        {
          "output_type": "stream",
          "name": "stderr",
          "text": [
            "/usr/local/lib/python3.7/dist-packages/tensorflow/python/data/ops/structured_function.py:265: UserWarning: Even though the `tf.config.experimental_run_functions_eagerly` option is set, this option does not apply to tf.data functions. To force eager execution of tf.data functions, please use `tf.data.experimental.enable_debug_mode()`.\n",
            "  \"Even though the `tf.config.experimental_run_functions_eagerly` \"\n"
          ]
        }
      ]
    },
    {
      "cell_type": "code",
      "source": [
        "ds_test, info = ModelNet40.load(\n",
        "      split=\"test\", data_dir=\"/content/drive/MyDrive/modelnet40\", with_info=True)"
      ],
      "metadata": {
        "id": "aDnZdvpI7gc9"
      },
      "execution_count": null,
      "outputs": []
    },
    {
      "cell_type": "code",
      "source": [
        "print(\"Example of string='{}' to ID#={}\".format(\n",
        "      \"airplane\", info.features[\"label\"].str2int(\"airplane\")))\n",
        "print(\"Example of ID#={} to string='{}'\".format(\n",
        "      12, info.features[\"label\"].int2str(12)))"
      ],
      "metadata": {
        "colab": {
          "base_uri": "https://localhost:8080/"
        },
        "id": "BveGC7fH_YR8",
        "outputId": "bb2894cd-d052-4b69-aa77-adb7c26fec10"
      },
      "execution_count": null,
      "outputs": [
        {
          "output_type": "stream",
          "name": "stdout",
          "text": [
            "Example of string='airplane' to ID#=0\n",
            "Example of ID#=12 to string='desk'\n"
          ]
        }
      ]
    },
    {
      "cell_type": "code",
      "source": [
        "for i in range(40):\n",
        "  print(info.features[\"label\"].int2str(i))"
      ],
      "metadata": {
        "colab": {
          "base_uri": "https://localhost:8080/"
        },
        "id": "vXwtacOnvw4U",
        "outputId": "e4d99088-5ec1-497e-a14b-72e98e98f207"
      },
      "execution_count": null,
      "outputs": [
        {
          "output_type": "stream",
          "name": "stdout",
          "text": [
            "airplane\n",
            "bathtub\n",
            "bed\n",
            "bench\n",
            "bookshelf\n",
            "bottle\n",
            "bowl\n",
            "car\n",
            "chair\n",
            "cone\n",
            "cup\n",
            "curtain\n",
            "desk\n",
            "door\n",
            "dresser\n",
            "flower_pot\n",
            "glass_box\n",
            "guitar\n",
            "keyboard\n",
            "lamp\n",
            "laptop\n",
            "mantel\n",
            "monitor\n",
            "night_stand\n",
            "person\n",
            "piano\n",
            "plant\n",
            "radio\n",
            "range_hood\n",
            "sink\n",
            "sofa\n",
            "stairs\n",
            "stool\n",
            "table\n",
            "tent\n",
            "toilet\n",
            "tv_stand\n",
            "vase\n",
            "wardrobe\n",
            "xbox\n"
          ]
        }
      ]
    },
    {
      "cell_type": "code",
      "source": [
        "ds_train"
      ],
      "metadata": {
        "colab": {
          "base_uri": "https://localhost:8080/"
        },
        "id": "CagOSlfhP_KP",
        "outputId": "ff6ad2ef-92e4-421a-f77c-4da2bcd8bea4"
      },
      "execution_count": null,
      "outputs": [
        {
          "output_type": "execute_result",
          "data": {
            "text/plain": [
              "<PrefetchDataset element_spec={'label': TensorSpec(shape=(), dtype=tf.int64, name=None), 'points': TensorSpec(shape=(2048, 3), dtype=tf.float32, name=None)}>"
            ]
          },
          "metadata": {},
          "execution_count": 41
        }
      ]
    },
    {
      "cell_type": "code",
      "source": [
        "ds_test"
      ],
      "metadata": {
        "colab": {
          "base_uri": "https://localhost:8080/"
        },
        "id": "jQNHnd2NQHvH",
        "outputId": "e2aa22b5-c950-420f-fc89-60bf745de8a8"
      },
      "execution_count": null,
      "outputs": [
        {
          "output_type": "execute_result",
          "data": {
            "text/plain": [
              "<PrefetchDataset element_spec={'label': TensorSpec(shape=(), dtype=tf.int64, name=None), 'points': TensorSpec(shape=(2048, 3), dtype=tf.float32, name=None)}>"
            ]
          },
          "metadata": {},
          "execution_count": 42
        }
      ]
    },
    {
      "cell_type": "code",
      "source": [
        "train_points = []\n",
        "train_labels = []"
      ],
      "metadata": {
        "id": "quriZjvNkV7I"
      },
      "execution_count": null,
      "outputs": []
    },
    {
      "cell_type": "code",
      "source": [
        "import numpy as np"
      ],
      "metadata": {
        "id": "-SZUhwhZiXhY"
      },
      "execution_count": null,
      "outputs": []
    },
    {
      "cell_type": "code",
      "source": [
        "for examples in ds_train:\n",
        "  points = examples['points']\n",
        "  label =  examples['label']\n",
        "  train_points.append(points)\n",
        "  train_labels.append(label)\n",
        "train_points = np.array(train_points)\n",
        "train_labels = np.array(train_labels)  "
      ],
      "metadata": {
        "id": "2OgpmNJ6N-zm"
      },
      "execution_count": null,
      "outputs": []
    },
    {
      "cell_type": "code",
      "source": [
        "train_points.shape\n",
        "train_labels.shape"
      ],
      "metadata": {
        "colab": {
          "base_uri": "https://localhost:8080/"
        },
        "id": "gPMem3ohkwM7",
        "outputId": "238035a5-6a50-46cb-c383-8d374c1d2322"
      },
      "execution_count": null,
      "outputs": [
        {
          "output_type": "execute_result",
          "data": {
            "text/plain": [
              "(9840,)"
            ]
          },
          "metadata": {},
          "execution_count": 46
        }
      ]
    },
    {
      "cell_type": "code",
      "source": [
        "test_points = []\n",
        "test_labels = []"
      ],
      "metadata": {
        "id": "oTTM3JIzT3D0"
      },
      "execution_count": null,
      "outputs": []
    },
    {
      "cell_type": "code",
      "source": [
        "for examples in ds_test:\n",
        "  test_points = examples['points']\n",
        "  test_label =  examples['label']\n",
        "  test_points.append(points)\n",
        "  test_labels.append(label)\n",
        "test_points = np.array(test_points)\n",
        "test_labels = np.array(test_labels)  "
      ],
      "metadata": {
        "id": "MqTxw4NXTnAp"
      },
      "execution_count": null,
      "outputs": []
    },
    {
      "cell_type": "code",
      "source": [
        "points"
      ],
      "metadata": {
        "id": "7P7G1bbpO8eB",
        "colab": {
          "base_uri": "https://localhost:8080/"
        },
        "outputId": "e1f5f17d-033f-440c-de1a-672d4177d569"
      },
      "execution_count": null,
      "outputs": [
        {
          "output_type": "execute_result",
          "data": {
            "text/plain": [
              "<tf.Tensor: shape=(2048, 3), dtype=float32, numpy=\n",
              "array([[-0.07808328, -0.83174926,  0.22577927],\n",
              "       [-0.03698633,  0.33876282, -0.3206838 ],\n",
              "       [ 0.06202465,  0.56744844,  0.3106861 ],\n",
              "       ...,\n",
              "       [-0.23760992,  0.7728923 , -0.05531693],\n",
              "       [-0.2954806 , -0.40292472, -0.01038125],\n",
              "       [ 0.22824031, -0.7242843 , -0.11598795]], dtype=float32)>"
            ]
          },
          "metadata": {},
          "execution_count": 16
        }
      ]
    },
    {
      "cell_type": "code",
      "source": [
        "input_pt = tf.shape(points)"
      ],
      "metadata": {
        "id": "6LEnE3zqj6Mw"
      },
      "execution_count": null,
      "outputs": []
    },
    {
      "cell_type": "code",
      "source": [
        "input_pt"
      ],
      "metadata": {
        "colab": {
          "base_uri": "https://localhost:8080/"
        },
        "id": "i02s0YeqnNXH",
        "outputId": "d87eec16-90ca-46d7-e135-d49b9b1c73f7"
      },
      "execution_count": null,
      "outputs": [
        {
          "output_type": "execute_result",
          "data": {
            "text/plain": [
              "<tf.Tensor: shape=(2,), dtype=int32, numpy=array([2048,    3], dtype=int32)>"
            ]
          },
          "metadata": {},
          "execution_count": 18
        }
      ]
    },
    {
      "cell_type": "code",
      "source": [
        "label"
      ],
      "metadata": {
        "colab": {
          "base_uri": "https://localhost:8080/"
        },
        "id": "5ldmDU9RPAgX",
        "outputId": "715d3fab-595b-4c47-8837-1b0168640030"
      },
      "execution_count": null,
      "outputs": [
        {
          "output_type": "execute_result",
          "data": {
            "text/plain": [
              "<tf.Tensor: shape=(), dtype=int64, numpy=37>"
            ]
          },
          "metadata": {},
          "execution_count": 19
        }
      ]
    },
    {
      "cell_type": "code",
      "source": [
        "fig = plt.figure()\n",
        "ax3 = fig.add_subplot(111, projection=\"3d\")\n",
        "ax3.set_title(\"Example with label {}\".format(label))\n",
        "scatter3 = lambda p, c=\"r\", *args: ax3.scatter(p[:, 0], p[:, 1], p[:, 2], c)\n",
        "scatter3(points)"
      ],
      "metadata": {
        "colab": {
          "base_uri": "https://localhost:8080/",
          "height": 265
        },
        "id": "0oZscFxL4vby",
        "outputId": "b7167e75-03ac-4b06-8911-de034fab0ae6"
      },
      "execution_count": null,
      "outputs": [
        {
          "output_type": "execute_result",
          "data": {
            "text/plain": [
              "<mpl_toolkits.mplot3d.art3d.Path3DCollection at 0x7f1d08102910>"
            ]
          },
          "metadata": {},
          "execution_count": 20
        },
        {
          "output_type": "display_data",
          "data": {
            "text/plain": [
              "<Figure size 432x288 with 1 Axes>"
            ],
            "image/png": "[encoded data removed]"
          },
          "metadata": {
            "needs_background": "light"
          }
        }
      ]
    },
    {
      "cell_type": "code",
      "source": [
        "import os\n",
        "import glob\n",
        "import trimesh\n",
        "import numpy as np\n",
        "import tensorflow as tf\n",
        "from tensorflow.keras import layers,Model,activations\n",
        "from tensorflow.keras.layers import Activation,Dense,Flatten,Conv1D,Dropout,BatchNormalization\n",
        "from tensorflow.keras.models import Sequential\n",
        "from tensorflow.keras.optimizers import Adam\n",
        "from tensorflow.keras.regularizers import Regularizer\n",
        "from matplotlib import pyplot as plt\n",
        "\n",
        "tf.random.set_seed(1234)"
      ],
      "metadata": {
        "id": "m_e0-vpCudDi"
      },
      "execution_count": null,
      "outputs": []
    },
    {
      "cell_type": "code",
      "source": [
        "def conv_layer(x,filters):\n",
        "  x = layers.Conv1D(filters,kernel_size=1,padding='valid')(x)\n",
        "  x = layers.BatchNormalization(momentum=0.0)(x)\n",
        "  return layers.Activation('relu')(x)\n",
        "\n",
        "def dense_layers(x,filters):\n",
        "    x = layers.Dense(filters)(x)\n",
        "    x = layers.BatchNormalization(momentum=0.0)(x)\n",
        "    return layers.Activation(\"relu\")(x)"
      ],
      "metadata": {
        "id": "BAOhGtK8trl8"
      },
      "execution_count": null,
      "outputs": []
    },
    {
      "cell_type": "code",
      "source": [
        "class OrthogonalRegularizer(tf.keras.regularizers.Regularizer):\n",
        "    def __init__(self, num_features, l2reg=0.001):\n",
        "        self.num_features = num_features\n",
        "        self.l2reg = l2reg\n",
        "        self.eye = tf.eye(num_features)\n",
        "\n",
        "    def __call__(self, x):\n",
        "        x = tf.reshape(x, (-1, self.num_features, self.num_features))\n",
        "        xxt = tf.tensordot(x, x, axes=(2, 2))\n",
        "        xxt = tf.reshape(xxt, (-1, self.num_features, self.num_features))\n",
        "        return tf.reduce_sum(self.l2reg * tf.square(xxt - self.eye))"
      ],
      "metadata": {
        "id": "L8vWeeUkuJxd"
      },
      "execution_count": null,
      "outputs": []
    },
    {
      "cell_type": "code",
      "source": [
        "def tnet(inputs, num_features):\n",
        "\n",
        "    # Initalise bias as the indentity matrix\n",
        "    bias = tf.keras.initializers.Constant(np.eye(num_features).flatten())\n",
        "    reg = OrthogonalRegularizer(num_features)\n",
        "\n",
        "    x = conv_layer(inputs, 32)\n",
        "    x = conv_layer(x, 64)\n",
        "    x = conv_layer(x, 512)\n",
        "    x = layers.GlobalMaxPooling1D()(x)\n",
        "    x = dense_layers(x, 256)\n",
        "    x = dense_layers(x, 128)\n",
        "    x = layers.Dense(\n",
        "        num_features * num_features,\n",
        "        kernel_initializer=\"zeros\",\n",
        "        bias_initializer=bias,\n",
        "        activity_regularizer=reg,\n",
        "    )(x)\n",
        "    feat_T = layers.Reshape((num_features, num_features))(x)\n",
        "    # Apply affine transformation to input features\n",
        "    return layers.Dot(axes=(2, 1))([inputs, feat_T])"
      ],
      "metadata": {
        "id": "krlafdWluR94"
      },
      "execution_count": null,
      "outputs": []
    },
    {
      "cell_type": "code",
      "source": [
        "input_shape =input_pt"
      ],
      "metadata": {
        "id": "dlCU6O1Izawm"
      },
      "execution_count": null,
      "outputs": []
    },
    {
      "cell_type": "code",
      "source": [
        "inputs = tf.keras.Input(shape=input_shape)\n",
        "\n",
        "x = tnet(inputs, 3)\n",
        "x = conv_layer(x, 64)\n",
        "x = conv_layer(x, 64)\n",
        "x = tnet(x, 64)\n",
        "x = conv_layer(x, 64)\n",
        "x = conv_layer(x, 128)\n",
        "x = conv_layer(x, 1024)\n",
        "x = layers.GlobalMaxPooling1D()(x)\n",
        "x = dense_layers(x, 512)\n",
        "x = layers.Dropout(0.3)(x)\n",
        "x = dense_layers(x, 256)\n",
        "x = layers.Dropout(0.3)(x)\n",
        "\n",
        "outputs = layers.Dense(40, activation=\"softmax\")(x)\n",
        "\n",
        "model = tf.keras.Model(inputs=inputs, outputs=outputs, name=\"pointnet\")\n",
        "model.summary()"
      ],
      "metadata": {
        "id": "cnFacNJvuS2y",
        "colab": {
          "base_uri": "https://localhost:8080/"
        },
        "outputId": "74154d8e-3472-42a2-86c8-22cc0dcdcd55"
      },
      "execution_count": null,
      "outputs": [
        {
          "output_type": "stream",
          "name": "stdout",
          "text": [
            "Model: \"pointnet\"\n",
            "__________________________________________________________________________________________________\n",
            " Layer (type)                   Output Shape         Param #     Connected to                     \n",
            "==================================================================================================\n",
            " input_2 (InputLayer)           [(None, 2048, 3)]    0           []                               \n",
            "                                                                                                  \n",
            " conv1d_11 (Conv1D)             (None, 2048, 32)     128         ['input_2[0][0]']                \n",
            "                                                                                                  \n",
            " batch_normalization_17 (BatchN  (None, 2048, 32)    128         ['conv1d_11[0][0]']              \n",
            " ormalization)                                                                                    \n",
            "                                                                                                  \n",
            " activation_17 (Activation)     (None, 2048, 32)     0           ['batch_normalization_17[0][0]'] \n",
            "                                                                                                  \n",
            " conv1d_12 (Conv1D)             (None, 2048, 64)     2112        ['activation_17[0][0]']          \n",
            "                                                                                                  \n",
            " batch_normalization_18 (BatchN  (None, 2048, 64)    256         ['conv1d_12[0][0]']              \n",
            " ormalization)                                                                                    \n",
            "                                                                                                  \n",
            " activation_18 (Activation)     (None, 2048, 64)     0           ['batch_normalization_18[0][0]'] \n",
            "                                                                                                  \n",
            " conv1d_13 (Conv1D)             (None, 2048, 512)    33280       ['activation_18[0][0]']          \n",
            "                                                                                                  \n",
            " batch_normalization_19 (BatchN  (None, 2048, 512)   2048        ['conv1d_13[0][0]']              \n",
            " ormalization)                                                                                    \n",
            "                                                                                                  \n",
            " activation_19 (Activation)     (None, 2048, 512)    0           ['batch_normalization_19[0][0]'] \n",
            "                                                                                                  \n",
            " global_max_pooling1d_3 (Global  (None, 512)         0           ['activation_19[0][0]']          \n",
            " MaxPooling1D)                                                                                    \n",
            "                                                                                                  \n",
            " dense_9 (Dense)                (None, 256)          131328      ['global_max_pooling1d_3[0][0]'] \n",
            "                                                                                                  \n",
            " batch_normalization_20 (BatchN  (None, 256)         1024        ['dense_9[0][0]']                \n",
            " ormalization)                                                                                    \n",
            "                                                                                                  \n",
            " activation_20 (Activation)     (None, 256)          0           ['batch_normalization_20[0][0]'] \n",
            "                                                                                                  \n",
            " dense_10 (Dense)               (None, 128)          32896       ['activation_20[0][0]']          \n",
            "                                                                                                  \n",
            " batch_normalization_21 (BatchN  (None, 128)         512         ['dense_10[0][0]']               \n",
            " ormalization)                                                                                    \n",
            "                                                                                                  \n",
            " activation_21 (Activation)     (None, 128)          0           ['batch_normalization_21[0][0]'] \n",
            "                                                                                                  \n",
            " dense_11 (Dense)               (None, 9)            1161        ['activation_21[0][0]']          \n",
            "                                                                                                  \n",
            " reshape_2 (Reshape)            (None, 3, 3)         0           ['dense_11[0][0]']               \n",
            "                                                                                                  \n",
            " dot_2 (Dot)                    (None, 2048, 3)      0           ['input_2[0][0]',                \n",
            "                                                                  'reshape_2[0][0]']              \n",
            "                                                                                                  \n",
            " conv1d_14 (Conv1D)             (None, 2048, 64)     256         ['dot_2[0][0]']                  \n",
            "                                                                                                  \n",
            " batch_normalization_22 (BatchN  (None, 2048, 64)    256         ['conv1d_14[0][0]']              \n",
            " ormalization)                                                                                    \n",
            "                                                                                                  \n",
            " activation_22 (Activation)     (None, 2048, 64)     0           ['batch_normalization_22[0][0]'] \n",
            "                                                                                                  \n",
            " conv1d_15 (Conv1D)             (None, 2048, 64)     4160        ['activation_22[0][0]']          \n",
            "                                                                                                  \n",
            " batch_normalization_23 (BatchN  (None, 2048, 64)    256         ['conv1d_15[0][0]']              \n",
            " ormalization)                                                                                    \n",
            "                                                                                                  \n",
            " activation_23 (Activation)     (None, 2048, 64)     0           ['batch_normalization_23[0][0]'] \n",
            "                                                                                                  \n",
            " conv1d_16 (Conv1D)             (None, 2048, 32)     2080        ['activation_23[0][0]']          \n",
            "                                                                                                  \n",
            " batch_normalization_24 (BatchN  (None, 2048, 32)    128         ['conv1d_16[0][0]']              \n",
            " ormalization)                                                                                    \n",
            "                                                                                                  \n",
            " activation_24 (Activation)     (None, 2048, 32)     0           ['batch_normalization_24[0][0]'] \n",
            "                                                                                                  \n",
            " conv1d_17 (Conv1D)             (None, 2048, 64)     2112        ['activation_24[0][0]']          \n",
            "                                                                                                  \n",
            " batch_normalization_25 (BatchN  (None, 2048, 64)    256         ['conv1d_17[0][0]']              \n",
            " ormalization)                                                                                    \n",
            "                                                                                                  \n",
            " activation_25 (Activation)     (None, 2048, 64)     0           ['batch_normalization_25[0][0]'] \n",
            "                                                                                                  \n",
            " conv1d_18 (Conv1D)             (None, 2048, 512)    33280       ['activation_25[0][0]']          \n",
            "                                                                                                  \n",
            " batch_normalization_26 (BatchN  (None, 2048, 512)   2048        ['conv1d_18[0][0]']              \n",
            " ormalization)                                                                                    \n",
            "                                                                                                  \n",
            " activation_26 (Activation)     (None, 2048, 512)    0           ['batch_normalization_26[0][0]'] \n",
            "                                                                                                  \n",
            " global_max_pooling1d_4 (Global  (None, 512)         0           ['activation_26[0][0]']          \n",
            " MaxPooling1D)                                                                                    \n",
            "                                                                                                  \n",
            " dense_12 (Dense)               (None, 256)          131328      ['global_max_pooling1d_4[0][0]'] \n",
            "                                                                                                  \n",
            " batch_normalization_27 (BatchN  (None, 256)         1024        ['dense_12[0][0]']               \n",
            " ormalization)                                                                                    \n",
            "                                                                                                  \n",
            " activation_27 (Activation)     (None, 256)          0           ['batch_normalization_27[0][0]'] \n",
            "                                                                                                  \n",
            " dense_13 (Dense)               (None, 128)          32896       ['activation_27[0][0]']          \n",
            "                                                                                                  \n",
            " batch_normalization_28 (BatchN  (None, 128)         512         ['dense_13[0][0]']               \n",
            " ormalization)                                                                                    \n",
            "                                                                                                  \n",
            " activation_28 (Activation)     (None, 128)          0           ['batch_normalization_28[0][0]'] \n",
            "                                                                                                  \n",
            " dense_14 (Dense)               (None, 4096)         528384      ['activation_28[0][0]']          \n",
            "                                                                                                  \n",
            " reshape_3 (Reshape)            (None, 64, 64)       0           ['dense_14[0][0]']               \n",
            "                                                                                                  \n",
            " dot_3 (Dot)                    (None, 2048, 64)     0           ['activation_23[0][0]',          \n",
            "                                                                  'reshape_3[0][0]']              \n",
            "                                                                                                  \n",
            " conv1d_19 (Conv1D)             (None, 2048, 64)     4160        ['dot_3[0][0]']                  \n",
            "                                                                                                  \n",
            " batch_normalization_29 (BatchN  (None, 2048, 64)    256         ['conv1d_19[0][0]']              \n",
            " ormalization)                                                                                    \n",
            "                                                                                                  \n",
            " activation_29 (Activation)     (None, 2048, 64)     0           ['batch_normalization_29[0][0]'] \n",
            "                                                                                                  \n",
            " conv1d_20 (Conv1D)             (None, 2048, 128)    8320        ['activation_29[0][0]']          \n",
            "                                                                                                  \n",
            " batch_normalization_30 (BatchN  (None, 2048, 128)   512         ['conv1d_20[0][0]']              \n",
            " ormalization)                                                                                    \n",
            "                                                                                                  \n",
            " activation_30 (Activation)     (None, 2048, 128)    0           ['batch_normalization_30[0][0]'] \n",
            "                                                                                                  \n",
            " conv1d_21 (Conv1D)             (None, 2048, 1024)   132096      ['activation_30[0][0]']          \n",
            "                                                                                                  \n",
            " batch_normalization_31 (BatchN  (None, 2048, 1024)  4096        ['conv1d_21[0][0]']              \n",
            " ormalization)                                                                                    \n",
            "                                                                                                  \n",
            " activation_31 (Activation)     (None, 2048, 1024)   0           ['batch_normalization_31[0][0]'] \n",
            "                                                                                                  \n",
            " global_max_pooling1d_5 (Global  (None, 1024)        0           ['activation_31[0][0]']          \n",
            " MaxPooling1D)                                                                                    \n",
            "                                                                                                  \n",
            " dense_15 (Dense)               (None, 512)          524800      ['global_max_pooling1d_5[0][0]'] \n",
            "                                                                                                  \n",
            " batch_normalization_32 (BatchN  (None, 512)         2048        ['dense_15[0][0]']               \n",
            " ormalization)                                                                                    \n",
            "                                                                                                  \n",
            " activation_32 (Activation)     (None, 512)          0           ['batch_normalization_32[0][0]'] \n",
            "                                                                                                  \n",
            " dropout_2 (Dropout)            (None, 512)          0           ['activation_32[0][0]']          \n",
            "                                                                                                  \n",
            " dense_16 (Dense)               (None, 256)          131328      ['dropout_2[0][0]']              \n",
            "                                                                                                  \n",
            " batch_normalization_33 (BatchN  (None, 256)         1024        ['dense_16[0][0]']               \n",
            " ormalization)                                                                                    \n",
            "                                                                                                  \n",
            " activation_33 (Activation)     (None, 256)          0           ['batch_normalization_33[0][0]'] \n",
            "                                                                                                  \n",
            " dropout_3 (Dropout)            (None, 256)          0           ['activation_33[0][0]']          \n",
            "                                                                                                  \n",
            " dense_17 (Dense)               (None, 40)           10280       ['dropout_3[0][0]']              \n",
            "                                                                                                  \n",
            "==================================================================================================\n",
            "Total params: 1,762,769\n",
            "Trainable params: 1,754,577\n",
            "Non-trainable params: 8,192\n",
            "__________________________________________________________________________________________________\n"
          ]
        }
      ]
    },
    {
      "cell_type": "code",
      "source": [
        "model.compile(\n",
        "    loss=\"sparse_categorical_crossentropy\",\n",
        "    optimizer=tf.keras.optimizers.Adam(learning_rate=0.001),\n",
        "    metrics=[\"sparse_categorical_accuracy\"],\n",
        ")"
      ],
      "metadata": {
        "id": "zkbP0MWk0n1t"
      },
      "execution_count": null,
      "outputs": []
    },
    {
      "cell_type": "code",
      "source": [
        "tf.config.run_functions_eagerly(True)"
      ],
      "metadata": {
        "id": "u_0jpJpUl5u1"
      },
      "execution_count": null,
      "outputs": []
    },
    {
      "cell_type": "code",
      "source": [
        "model.fit(x=train_points,y=train_labels,epochs=20,batch_size=32)"
      ],
      "metadata": {
        "colab": {
          "base_uri": "https://localhost:8080/"
        },
        "id": "YPWMEOzE0u-W",
        "outputId": "a9aff915-eb60-45e1-cc0d-297f070500cb"
      },
      "execution_count": null,
      "outputs": [
        {
          "output_type": "stream",
          "name": "stdout",
          "text": [
            "Epoch 1/20\n",
            "308/308 [==============================] - 51s 166ms/step - loss: 2.6823 - sparse_categorical_accuracy: 0.8282\n",
            "Epoch 2/20\n",
            "308/308 [==============================] - 51s 167ms/step - loss: 2.6873 - sparse_categorical_accuracy: 0.8264\n",
            "Epoch 3/20\n",
            "308/308 [==============================] - 51s 167ms/step - loss: 2.6557 - sparse_categorical_accuracy: 0.8389\n",
            "Epoch 4/20\n",
            "308/308 [==============================] - 51s 167ms/step - loss: 2.6200 - sparse_categorical_accuracy: 0.8449\n",
            "Epoch 5/20\n",
            "308/308 [==============================] - 51s 166ms/step - loss: 2.6017 - sparse_categorical_accuracy: 0.8522\n",
            "Epoch 6/20\n",
            "308/308 [==============================] - 51s 167ms/step - loss: 2.5903 - sparse_categorical_accuracy: 0.8520\n",
            "Epoch 7/20\n",
            "308/308 [==============================] - 51s 166ms/step - loss: 2.5747 - sparse_categorical_accuracy: 0.8589\n",
            "Epoch 8/20\n",
            "308/308 [==============================] - 51s 167ms/step - loss: 2.5643 - sparse_categorical_accuracy: 0.8584\n",
            "Epoch 9/20\n",
            "308/308 [==============================] - 51s 167ms/step - loss: 2.5487 - sparse_categorical_accuracy: 0.8610\n",
            "Epoch 10/20\n",
            "308/308 [==============================] - 51s 167ms/step - loss: 2.5454 - sparse_categorical_accuracy: 0.8644\n",
            "Epoch 11/20\n",
            "308/308 [==============================] - 51s 166ms/step - loss: 2.5370 - sparse_categorical_accuracy: 0.8639\n",
            "Epoch 12/20\n",
            "308/308 [==============================] - 51s 167ms/step - loss: 2.5242 - sparse_categorical_accuracy: 0.8688\n",
            "Epoch 13/20\n",
            "308/308 [==============================] - 51s 166ms/step - loss: 2.4999 - sparse_categorical_accuracy: 0.8748\n",
            "Epoch 14/20\n",
            "308/308 [==============================] - 51s 166ms/step - loss: 2.5064 - sparse_categorical_accuracy: 0.8721\n",
            "Epoch 15/20\n",
            "308/308 [==============================] - 51s 166ms/step - loss: 2.5062 - sparse_categorical_accuracy: 0.8709\n",
            "Epoch 16/20\n",
            "308/308 [==============================] - 52s 167ms/step - loss: 2.4964 - sparse_categorical_accuracy: 0.8730\n",
            "Epoch 17/20\n",
            "308/308 [==============================] - 51s 166ms/step - loss: 2.4950 - sparse_categorical_accuracy: 0.8773\n",
            "Epoch 18/20\n",
            "308/308 [==============================] - 51s 165ms/step - loss: 2.4698 - sparse_categorical_accuracy: 0.8853\n",
            "Epoch 19/20\n",
            "308/308 [==============================] - 51s 165ms/step - loss: 2.4655 - sparse_categorical_accuracy: 0.8842\n",
            "Epoch 20/20\n",
            "308/308 [==============================] - 51s 166ms/step - loss: 2.4727 - sparse_categorical_accuracy: 0.8790\n"
          ]
        },
        {
          "output_type": "execute_result",
          "data": {
            "text/plain": [
              "<keras.callbacks.History at 0x7f1cce320d50>"
            ]
          },
          "metadata": {},
          "execution_count": 58
        }
      ]
    }
  ]
}