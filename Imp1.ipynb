{
  "nbformat": 4,
  "nbformat_minor": 0,
  "metadata": {
    "colab": {
      "name": "Imp1.ipynb",
      "provenance": [],
      "collapsed_sections": [],
      "mount_file_id": "19JGB0PWbkGhFaGoVWsowEUHUJHO-RWyh",
      "authorship_tag": "ABX9TyO98OLQ0LWD5FvVq/2Njb4x",
      "include_colab_link": true
    },
    "kernelspec": {
      "name": "python3",
      "display_name": "Python 3"
    },
    "language_info": {
      "name": "python"
    },
    "accelerator": "GPU"
  },
  "cells": [
    {
      "cell_type": "markdown",
      "metadata": {
        "id": "view-in-github",
        "colab_type": "text"
      },
      "source": [
        "<a href=\"https://colab.research.google.com/github/shilz1007/shilz1007/blob/main/Imp1.ipynb\" target=\"_parent\"><img src=\"https://colab.research.google.com/assets/colab-badge.svg\" alt=\"Open In Colab\"/></a>"
      ]
    },
    {
      "cell_type": "markdown",
      "source": [
        "## Import libraries \n",
        "## connect to GPU\n",
        "## Hyperparameter \n",
        "## transform normalize\n",
        "## Import datasets (image and result)\n",
        "## divide train and test \n",
        "## create loader\n",
        "## create model\n",
        "## create loss \n",
        "## Create optimizer \n",
        "## loop through epochs"
      ],
      "metadata": {
        "id": "8t_LiiLg4jf7"
      }
    },
    {
      "cell_type": "code",
      "source": [
        "import os\n",
        "import copy\n",
        "import time\n",
        "import numpy as np\n",
        "import pandas as pd\n",
        "import torch.nn as nn\n",
        "import torch\n",
        "import torch.optim as optim\n",
        "import torchvision\n",
        "import torchvision.transforms as transforms\n",
        "from pandas import io \n",
        "from torch.utils.data import Dataset,DataLoader\n",
        "from torchvision.io import read_image\n",
        "import matplotlib.pyplot as plt\n",
        "import skimage.io\n",
        "from PIL import Image\n",
        "from PIL import Image, ImageDraw\n",
        "import random\n",
        "%matplotlib inline\n"
      ],
      "metadata": {
        "id": "4QEophvCBdAi"
      },
      "execution_count": 1,
      "outputs": []
    },
    {
      "cell_type": "code",
      "source": [
        "from google.colab import drive\n",
        "drive.mount('/content/drive')"
      ],
      "metadata": {
        "colab": {
          "base_uri": "https://localhost:8080/"
        },
        "id": "MjMiGvTqAve5",
        "outputId": "a170691f-d889-49f9-da8b-81ecdbc46ffb"
      },
      "execution_count": null,
      "outputs": [
        {
          "output_type": "stream",
          "name": "stdout",
          "text": [
            "Drive already mounted at /content/drive; to attempt to forcibly remount, call drive.mount(\"/content/drive\", force_remount=True).\n"
          ]
        }
      ]
    },
    {
      "cell_type": "code",
      "source": [
        "path1 = '/content/drive/MyDrive/SCD/Validation/GroundTruth.csv'\n",
        "path2 = '/content/drive/MyDrive/SCD/Images'\n",
        "#!ls {path2}"
      ],
      "metadata": {
        "id": "IiIcgl4CBK3r"
      },
      "execution_count": 2,
      "outputs": []
    },
    {
      "cell_type": "code",
      "source": [
        "df = pd.read_csv(path1)\n",
        "rows = len(df.index)\n",
        "rows"
      ],
      "metadata": {
        "id": "c2xTy8wTDe5a",
        "colab": {
          "base_uri": "https://localhost:8080/"
        },
        "outputId": "d44a456f-62ab-487f-e060-59e05a3dbdb4"
      },
      "execution_count": 5,
      "outputs": [
        {
          "output_type": "execute_result",
          "data": {
            "text/plain": [
              "10015"
            ]
          },
          "metadata": {},
          "execution_count": 5
        }
      ]
    },
    {
      "cell_type": "code",
      "source": [
        "for ind in range(rows):\n",
        "  df['image'][ind] = df['image'][ind] +'.jpg'\n",
        "  print(df['image'][ind])"
      ],
      "metadata": {
        "id": "t9a0eFlh5Y0F"
      },
      "execution_count": null,
      "outputs": []
    },
    {
      "cell_type": "code",
      "source": [
        "df.head()"
      ],
      "metadata": {
        "colab": {
          "base_uri": "https://localhost:8080/",
          "height": 206
        },
        "id": "pqbxMOaq5fgk",
        "outputId": "b89a6a95-10b4-4557-a120-799d091b9163"
      },
      "execution_count": 7,
      "outputs": [
        {
          "output_type": "execute_result",
          "data": {
            "text/plain": [
              "              image  MEL   NV  BCC  AKIEC  BKL   DF  VASC\n",
              "0  ISIC_0024306.jpg  0.0  1.0  0.0    0.0  0.0  0.0   0.0\n",
              "1  ISIC_0024307.jpg  0.0  1.0  0.0    0.0  0.0  0.0   0.0\n",
              "2  ISIC_0024308.jpg  0.0  1.0  0.0    0.0  0.0  0.0   0.0\n",
              "3  ISIC_0024309.jpg  0.0  1.0  0.0    0.0  0.0  0.0   0.0\n",
              "4  ISIC_0024310.jpg  1.0  0.0  0.0    0.0  0.0  0.0   0.0"
            ],
            "text/html": [
              "\n",
              "  <div id=\"df-df33ddf1-15c7-4273-922b-4dbd2a05d0a0\">\n",
              "    <div class=\"colab-df-container\">\n",
              "      <div>\n",
              "<style scoped>\n",
              "    .dataframe tbody tr th:only-of-type {\n",
              "        vertical-align: middle;\n",
              "    }\n",
              "\n",
              "    .dataframe tbody tr th {\n",
              "        vertical-align: top;\n",
              "    }\n",
              "\n",
              "    .dataframe thead th {\n",
              "        text-align: right;\n",
              "    }\n",
              "</style>\n",
              "<table border=\"1\" class=\"dataframe\">\n",
              "  <thead>\n",
              "    <tr style=\"text-align: right;\">\n",
              "      <th></th>\n",
              "      <th>image</th>\n",
              "      <th>MEL</th>\n",
              "      <th>NV</th>\n",
              "      <th>BCC</th>\n",
              "      <th>AKIEC</th>\n",
              "      <th>BKL</th>\n",
              "      <th>DF</th>\n",
              "      <th>VASC</th>\n",
              "    </tr>\n",
              "  </thead>\n",
              "  <tbody>\n",
              "    <tr>\n",
              "      <th>0</th>\n",
              "      <td>ISIC_0024306.jpg</td>\n",
              "      <td>0.0</td>\n",
              "      <td>1.0</td>\n",
              "      <td>0.0</td>\n",
              "      <td>0.0</td>\n",
              "      <td>0.0</td>\n",
              "      <td>0.0</td>\n",
              "      <td>0.0</td>\n",
              "    </tr>\n",
              "    <tr>\n",
              "      <th>1</th>\n",
              "      <td>ISIC_0024307.jpg</td>\n",
              "      <td>0.0</td>\n",
              "      <td>1.0</td>\n",
              "      <td>0.0</td>\n",
              "      <td>0.0</td>\n",
              "      <td>0.0</td>\n",
              "      <td>0.0</td>\n",
              "      <td>0.0</td>\n",
              "    </tr>\n",
              "    <tr>\n",
              "      <th>2</th>\n",
              "      <td>ISIC_0024308.jpg</td>\n",
              "      <td>0.0</td>\n",
              "      <td>1.0</td>\n",
              "      <td>0.0</td>\n",
              "      <td>0.0</td>\n",
              "      <td>0.0</td>\n",
              "      <td>0.0</td>\n",
              "      <td>0.0</td>\n",
              "    </tr>\n",
              "    <tr>\n",
              "      <th>3</th>\n",
              "      <td>ISIC_0024309.jpg</td>\n",
              "      <td>0.0</td>\n",
              "      <td>1.0</td>\n",
              "      <td>0.0</td>\n",
              "      <td>0.0</td>\n",
              "      <td>0.0</td>\n",
              "      <td>0.0</td>\n",
              "      <td>0.0</td>\n",
              "    </tr>\n",
              "    <tr>\n",
              "      <th>4</th>\n",
              "      <td>ISIC_0024310.jpg</td>\n",
              "      <td>1.0</td>\n",
              "      <td>0.0</td>\n",
              "      <td>0.0</td>\n",
              "      <td>0.0</td>\n",
              "      <td>0.0</td>\n",
              "      <td>0.0</td>\n",
              "      <td>0.0</td>\n",
              "    </tr>\n",
              "  </tbody>\n",
              "</table>\n",
              "</div>\n",
              "      <button class=\"colab-df-convert\" onclick=\"convertToInteractive('df-df33ddf1-15c7-4273-922b-4dbd2a05d0a0')\"\n",
              "              title=\"Convert this dataframe to an interactive table.\"\n",
              "              style=\"display:none;\">\n",
              "        \n",
              "  <svg xmlns=\"http://www.w3.org/2000/svg\" height=\"24px\"viewBox=\"0 0 24 24\"\n",
              "       width=\"24px\">\n",
              "    <path d=\"M0 0h24v24H0V0z\" fill=\"none\"/>\n",
              "    <path d=\"M18.56 5.44l.94 2.06.94-2.06 2.06-.94-2.06-.94-.94-2.06-.94 2.06-2.06.94zm-11 1L8.5 8.5l.94-2.06 2.06-.94-2.06-.94L8.5 2.5l-.94 2.06-2.06.94zm10 10l.94 2.06.94-2.06 2.06-.94-2.06-.94-.94-2.06-.94 2.06-2.06.94z\"/><path d=\"M17.41 7.96l-1.37-1.37c-.4-.4-.92-.59-1.43-.59-.52 0-1.04.2-1.43.59L10.3 9.45l-7.72 7.72c-.78.78-.78 2.05 0 2.83L4 21.41c.39.39.9.59 1.41.59.51 0 1.02-.2 1.41-.59l7.78-7.78 2.81-2.81c.8-.78.8-2.07 0-2.86zM5.41 20L4 18.59l7.72-7.72 1.47 1.35L5.41 20z\"/>\n",
              "  </svg>\n",
              "      </button>\n",
              "      \n",
              "  <style>\n",
              "    .colab-df-container {\n",
              "      display:flex;\n",
              "      flex-wrap:wrap;\n",
              "      gap: 12px;\n",
              "    }\n",
              "\n",
              "    .colab-df-convert {\n",
              "      background-color: #E8F0FE;\n",
              "      border: none;\n",
              "      border-radius: 50%;\n",
              "      cursor: pointer;\n",
              "      display: none;\n",
              "      fill: #1967D2;\n",
              "      height: 32px;\n",
              "      padding: 0 0 0 0;\n",
              "      width: 32px;\n",
              "    }\n",
              "\n",
              "    .colab-df-convert:hover {\n",
              "      background-color: #E2EBFA;\n",
              "      box-shadow: 0px 1px 2px rgba(60, 64, 67, 0.3), 0px 1px 3px 1px rgba(60, 64, 67, 0.15);\n",
              "      fill: #174EA6;\n",
              "    }\n",
              "\n",
              "    [theme=dark] .colab-df-convert {\n",
              "      background-color: #3B4455;\n",
              "      fill: #D2E3FC;\n",
              "    }\n",
              "\n",
              "    [theme=dark] .colab-df-convert:hover {\n",
              "      background-color: #434B5C;\n",
              "      box-shadow: 0px 1px 3px 1px rgba(0, 0, 0, 0.15);\n",
              "      filter: drop-shadow(0px 1px 2px rgba(0, 0, 0, 0.3));\n",
              "      fill: #FFFFFF;\n",
              "    }\n",
              "  </style>\n",
              "\n",
              "      <script>\n",
              "        const buttonEl =\n",
              "          document.querySelector('#df-df33ddf1-15c7-4273-922b-4dbd2a05d0a0 button.colab-df-convert');\n",
              "        buttonEl.style.display =\n",
              "          google.colab.kernel.accessAllowed ? 'block' : 'none';\n",
              "\n",
              "        async function convertToInteractive(key) {\n",
              "          const element = document.querySelector('#df-df33ddf1-15c7-4273-922b-4dbd2a05d0a0');\n",
              "          const dataTable =\n",
              "            await google.colab.kernel.invokeFunction('convertToInteractive',\n",
              "                                                     [key], {});\n",
              "          if (!dataTable) return;\n",
              "\n",
              "          const docLinkHtml = 'Like what you see? Visit the ' +\n",
              "            '<a target=\"_blank\" href=https://colab.research.google.com/notebooks/data_table.ipynb>data table notebook</a>'\n",
              "            + ' to learn more about interactive tables.';\n",
              "          element.innerHTML = '';\n",
              "          dataTable['output_type'] = 'display_data';\n",
              "          await google.colab.output.renderOutput(dataTable, element);\n",
              "          const docLink = document.createElement('div');\n",
              "          docLink.innerHTML = docLinkHtml;\n",
              "          element.appendChild(docLink);\n",
              "        }\n",
              "      </script>\n",
              "    </div>\n",
              "  </div>\n",
              "  "
            ]
          },
          "metadata": {},
          "execution_count": 7
        }
      ]
    },
    {
      "cell_type": "code",
      "source": [
        "class SkinData(Dataset):\n",
        "  def __init__(self,csv_file,root_dir,transform=None):\n",
        "    self.annotations = csv_file\n",
        "    self.root_dir = root_dir\n",
        "    self.transform = transform\n",
        "  def __len__(self):\n",
        "    return len(self.annotations)\n",
        "\n",
        "  def __getitem__(self, index):\n",
        "  \n",
        "    img_path = os.path.join(self.root_dir,self.annotations.iloc[index,0])\n",
        "     #image = skimage.io.imread(img_path)\n",
        "    image_new = read_image(img_path)\n",
        "    y_label = torch.tensor(int(self.annotations.iloc[index, 1]))\n",
        "\n",
        "    #if self.transform:\n",
        "    #   image_new = self.transform(image_new,y_label)\n",
        "\n",
        "    return (image_new,y_label)  \n",
        "\n",
        "\n",
        "     \n",
        "\n",
        "\n",
        " "
      ],
      "metadata": {
        "id": "saAZUKoXBQQN"
      },
      "execution_count": 8,
      "outputs": []
    },
    {
      "cell_type": "code",
      "source": [
        "## hyper parameters\n",
        "import numpy as np\n",
        "\n",
        "in_channel = 3\n",
        "num_classes = 2\n",
        "learning_rate = 0.001\n",
        "b_size = 100\n",
        "num_epochs = 50\n",
        "\n",
        "mean = np.array([0.485, 0.456, 0.406])\n",
        "std = np.array([0.229, 0.224, 0.225])\n",
        "\n",
        "data_transforms = {\n",
        "      transforms.Compose([\n",
        "      transforms.RandomResizedCrop(224),\n",
        "      transforms.RandomHorizontalFlip(),\n",
        "      transforms.ToTensor(),\n",
        "      transforms.Normalize(mean, std)                          \n",
        "    ]),\n",
        "}\n",
        "\n",
        "device = torch.device(\"cuda:0\" if torch.cuda.is_available() else \"cpu\")\n",
        "\n",
        "# load data\n",
        "## load data \n",
        "#csv_file = '/content/drive/MyDrive/GroundTruth.csv'\n",
        "dataset =  SkinData(csv_file = df,\n",
        "                    root_dir= '/content/drive/MyDrive/SCD/Images',\n",
        "                    transform=data_transforms) \n",
        "\n",
        "data_size = (len(dataset)) \n",
        "\n",
        "train_set ,test_set = torch.utils.data.random_split(dataset,[7011,3004])\n",
        "\n",
        "\n",
        "\n",
        "train_loader = DataLoader(train_set, batch_size = b_size, shuffle=True)\n",
        "test_loader = DataLoader(test_set, batch_size = b_size, shuffle=True)\n",
        "\n",
        "#-------------------------------------------\n",
        "#train_features, train_labels = next(iter(train_loader))\n",
        "#print(f\"Feature batch shape: {train_features.size()}\")\n",
        "#print(f\"Labels batch shape: {train_labels.size()}\")\n",
        "#img = train_features[0].squeeze()\n",
        "#label = train_labels[0]\n",
        "#plt.imshow(img)\n",
        "#plt.show()\n",
        "#print(f\"Label: {label}\")\n"
      ],
      "metadata": {
        "id": "L6qBops6r9u_"
      },
      "execution_count": 9,
      "outputs": []
    },
    {
      "cell_type": "code",
      "source": [
        "#df['MEL'].count()\n",
        "pd.value_counts(df['MEL'])\n",
        "## out of 10015 images 8902 are benign and 1113 are malignant"
      ],
      "metadata": {
        "colab": {
          "base_uri": "https://localhost:8080/"
        },
        "id": "F0yEp5zUGV8t",
        "outputId": "bb9f859c-76a4-4e05-b04f-6f686155e181"
      },
      "execution_count": null,
      "outputs": [
        {
          "output_type": "execute_result",
          "data": {
            "text/plain": [
              "0.0    8902\n",
              "1.0    1113\n",
              "Name: MEL, dtype: int64"
            ]
          },
          "metadata": {},
          "execution_count": 9
        }
      ]
    },
    {
      "cell_type": "code",
      "source": [
        "def train_model(model,criterion,optimizer,schedular,num_epochs=50):\n",
        "    since = time.time()\n",
        "\n",
        "    best_model_weights = copy.deepcopy(model.state_dict())\n",
        "    best_acc = 0.0\n",
        "\n",
        "    for epoch in range(num_epochs):\n",
        "        print('Epoch {}/{}'.format(epoch, num_epochs - 1))\n",
        "        print('-' * 10)\n",
        "\n",
        "        for phase in ['train_set','test_set']:\n",
        "            if phase == 'train':\n",
        "               model.train()\n",
        "            else:\n",
        "               model.eval()\n",
        "            running_loss = 0.0\n",
        "            running_corrects = 0\n",
        "\n",
        "            for inputs , lables in enumerate(train_loader):\n",
        "               inputs = train_set.to(device)\n",
        "               labels = labels.to(device)\n",
        "\n",
        "               optimizer.zero_grad()\n",
        "\n",
        "               with torch.set_grad_enabled(phase=='train'):\n",
        "                    outputs = model(inputs)\n",
        "                    _, preds = torch.max(outputs,1)\n",
        "                    loss = criterion(outputs,labels)\n",
        "\n",
        "                    if phase == 'train':\n",
        "                      optimizer.zero_grad()\n",
        "                      loss.backward()\n",
        "                      optimizer.step()\n",
        "\n",
        "               running_loss += loss.item() * input.size(0)\n",
        "               running_corrects += torch.sum(preds == labels.data)\n",
        "\n",
        "            if phase == 'train':\n",
        "              schedular.step()\n",
        "\n",
        "            epoch_loss = running_loss / data_size[phase]\n",
        "            epoch_acc = running_corrects.double() / data_size[phase]\n",
        "            print(f'{phase} Loss: {epoch_loss:.4f} Acc: {epoch_acc:.4f}')\n",
        "            if phase == 'val' and epoch_acc > best_acc:\n",
        "               best_acc = epoch_acc\n",
        "               best_model_wts = copy.deepcopy(model.state_dict())\n",
        "        print()\n",
        "    time_elapsed = time.time() - since\n",
        "    print(f'Training complete in {time_elapsed // 60:.0f}m {time_elapsed % 60:.0f}s')\n",
        "    model.load_state_dict(best_model_wts)\n",
        "    return model"
      ],
      "metadata": {
        "id": "c9HMoSHk_II5"
      },
      "execution_count": 14,
      "outputs": []
    },
    {
      "cell_type": "code",
      "source": [
        "model_ft = torchvision.models.resnext50_32x4d(pretrained = True)\n",
        "num_ftrs = model_ft.fc.in_features\n",
        "model_ft.fc = nn.Linear(num_ftrs,2)\n",
        "model_ft = model_ft.to(device)\n",
        "criterion = nn.CrossEntropyLoss()\n",
        "optimizer_ft = optim.SGD(model_ft.parameters(),lr=learning_rate,momentum = 0.9)\n",
        "exp_lr_scheduler = optim.lr_scheduler.StepLR(optimizer_ft , step_size=7,gamma=0.1)\n",
        "\n"
      ],
      "metadata": {
        "id": "qnlUvpVz-2YN"
      },
      "execution_count": 15,
      "outputs": []
    },
    {
      "cell_type": "code",
      "source": [
        "model_ft = train_model(model_ft, criterion, optimizer_ft, exp_lr_scheduler,\n",
        "                       num_epochs=5)\n"
      ],
      "metadata": {
        "colab": {
          "base_uri": "https://localhost:8080/",
          "height": 339
        },
        "id": "pLs3gta9AwR3",
        "outputId": "d772adc7-69dd-4c22-a9fd-fa7a8fae0728"
      },
      "execution_count": 16,
      "outputs": [
        {
          "output_type": "stream",
          "name": "stdout",
          "text": [
            "Epoch 0/4\n",
            "----------\n"
          ]
        },
        {
          "output_type": "error",
          "ename": "AttributeError",
          "evalue": "ignored",
          "traceback": [
            "\u001b[0;31m---------------------------------------------------------------------------\u001b[0m",
            "\u001b[0;31mAttributeError\u001b[0m                            Traceback (most recent call last)",
            "\u001b[0;32m<ipython-input-16-327733e582a6>\u001b[0m in \u001b[0;36m<module>\u001b[0;34m()\u001b[0m\n\u001b[1;32m      1\u001b[0m model_ft = train_model(model_ft, criterion, optimizer_ft, exp_lr_scheduler,\n\u001b[0;32m----> 2\u001b[0;31m                        num_epochs=5)\n\u001b[0m",
            "\u001b[0;32m<ipython-input-14-81078b2d6596>\u001b[0m in \u001b[0;36mtrain_model\u001b[0;34m(model, criterion, optimizer, schedular, num_epochs)\u001b[0m\n\u001b[1;32m     18\u001b[0m \u001b[0;34m\u001b[0m\u001b[0m\n\u001b[1;32m     19\u001b[0m             \u001b[0;32mfor\u001b[0m \u001b[0minputs\u001b[0m \u001b[0;34m,\u001b[0m \u001b[0mlables\u001b[0m \u001b[0;32min\u001b[0m \u001b[0menumerate\u001b[0m\u001b[0;34m(\u001b[0m\u001b[0mtrain_loader\u001b[0m\u001b[0;34m)\u001b[0m\u001b[0;34m:\u001b[0m\u001b[0;34m\u001b[0m\u001b[0;34m\u001b[0m\u001b[0m\n\u001b[0;32m---> 20\u001b[0;31m                \u001b[0minputs\u001b[0m \u001b[0;34m=\u001b[0m \u001b[0mtrain_set\u001b[0m\u001b[0;34m.\u001b[0m\u001b[0mto\u001b[0m\u001b[0;34m(\u001b[0m\u001b[0mdevice\u001b[0m\u001b[0;34m)\u001b[0m\u001b[0;34m\u001b[0m\u001b[0;34m\u001b[0m\u001b[0m\n\u001b[0m\u001b[1;32m     21\u001b[0m                \u001b[0mlabels\u001b[0m \u001b[0;34m=\u001b[0m \u001b[0mlabels\u001b[0m\u001b[0;34m.\u001b[0m\u001b[0mto\u001b[0m\u001b[0;34m(\u001b[0m\u001b[0mdevice\u001b[0m\u001b[0;34m)\u001b[0m\u001b[0;34m\u001b[0m\u001b[0;34m\u001b[0m\u001b[0m\n\u001b[1;32m     22\u001b[0m \u001b[0;34m\u001b[0m\u001b[0m\n",
            "\u001b[0;31mAttributeError\u001b[0m: 'Subset' object has no attribute 'to'"
          ]
        }
      ]
    },
    {
      "cell_type": "code",
      "source": [
        "class block(nn.Module):\n",
        "    def __init__(self,in_channel,middle_channel,identity_change=None,stride=1):\n",
        "      super.__init__(block,self)\n",
        "      self.multiply = 4\n",
        "      self.conv1 = mm.Conv2d(in_channels,middle_channel,kernal_size=1,stride=1,padding=0,bias=False)\n",
        "      self.batchN1 = nn.BatchNorm2d(middle_channel)\n",
        "      self.conv2 = nn.Conv2d(middle_channel,middle_channel,kernel_size=3,stride=stride,padding=1,bias=False))\n",
        "      self.batchN2 = nn.BatchNorm2d(middle_channel)\n",
        "      self.conv3 = nn.Conv2d(middle_channel,middle_channel * self.multiply,kernel_size = 1, stride=1,padding=0,bias=False)\n",
        "      self.batchN3 = nn.BatchNorm2d(middle_channel*self.multiply)\n",
        "      self.relu = nn.ReLU()\n",
        "      self.identity_change = identity_change\n",
        "      self.stride = stride \n",
        "\n",
        "    def forward(self,x):\n",
        "        identity = x.clone()\n",
        "\n",
        "        x = self.conv1(x)\n",
        "        x = self.batchN1(x)\n",
        "        x = self.relu(x)\n",
        "        x = self.conv2(x)\n",
        "        x = self.batchN2(x) \n",
        "        x = self.relu(x)\n",
        "        x = self.conv3(x)\n",
        "        x = self.batchN2(x)\n",
        "        x = self.relu(x)\n",
        "\n",
        "        if self.identity_change is not None:\n",
        "           identity = self.identity_change(identity)\n",
        "\n",
        "        x += identity\n",
        "        x = relu(x)\n",
        "\n",
        "        return x    \n"
      ],
      "metadata": {
        "id": "bXGyLFW_FmDs"
      },
      "execution_count": null,
      "outputs": []
    }
  ]
}