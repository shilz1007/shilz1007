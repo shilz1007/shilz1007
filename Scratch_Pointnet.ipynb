{
  "nbformat": 4,
  "nbformat_minor": 0,
  "metadata": {
    "colab": {
      "provenance": [],
      "mount_file_id": "1m50VLomOFYeiFN8-NxyseKo5PxtzCRnq",
      "authorship_tag": "ABX9TyNkiFiJHuSN2OqpF4qNbPvK",
      "include_colab_link": true
    },
    "kernelspec": {
      "name": "python3",
      "display_name": "Python 3"
    },
    "language_info": {
      "name": "python"
    }
  },
  "cells": [
    {
      "cell_type": "markdown",
      "metadata": {
        "id": "view-in-github",
        "colab_type": "text"
      },
      "source": [
        "<a href=\"https://colab.research.google.com/github/shilz1007/shilz1007/blob/main/Scratch_Pointnet.ipynb\" target=\"_parent\"><img src=\"https://colab.research.google.com/assets/colab-badge.svg\" alt=\"Open In Colab\"/></a>"
      ]
    },
    {
      "cell_type": "code",
      "source": [
        "!pip install trimesh"
      ],
      "metadata": {
        "colab": {
          "base_uri": "https://localhost:8080/"
        },
        "id": "Ev-gnCO2wFFI",
        "outputId": "0f13facc-630e-49f8-ff14-39279baa749d"
      },
      "execution_count": null,
      "outputs": [
        {
          "output_type": "stream",
          "name": "stdout",
          "text": [
            "Looking in indexes: https://pypi.org/simple, https://us-python.pkg.dev/colab-wheels/public/simple/\n",
            "Requirement already satisfied: trimesh in /usr/local/lib/python3.7/dist-packages (3.15.8)\n",
            "Requirement already satisfied: numpy in /usr/local/lib/python3.7/dist-packages (from trimesh) (1.21.6)\n"
          ]
        }
      ]
    },
    {
      "cell_type": "code",
      "source": [
        "!pip install tensorflow_graphics"
      ],
      "metadata": {
        "colab": {
          "base_uri": "https://localhost:8080/"
        },
        "id": "0qhpZyF7wMGd",
        "outputId": "94eeb593-7017-4889-a2c2-e388decc0283"
      },
      "execution_count": null,
      "outputs": [
        {
          "output_type": "stream",
          "name": "stdout",
          "text": [
            "Looking in indexes: https://pypi.org/simple, https://us-python.pkg.dev/colab-wheels/public/simple/\n",
            "Requirement already satisfied: tensorflow_graphics in /usr/local/lib/python3.7/dist-packages (2021.12.3)\n",
            "Requirement already satisfied: OpenEXR>=1.3.2 in /usr/local/lib/python3.7/dist-packages (from tensorflow_graphics) (1.3.9)\n",
            "Requirement already satisfied: tensorflow-addons>=0.10.0 in /usr/local/lib/python3.7/dist-packages (from tensorflow_graphics) (0.18.0)\n",
            "Requirement already satisfied: tensorflow>=2.2.0 in /usr/local/lib/python3.7/dist-packages (from tensorflow_graphics) (2.9.2)\n",
            "Requirement already satisfied: termcolor>=1.1.0 in /usr/local/lib/python3.7/dist-packages (from tensorflow_graphics) (2.0.1)\n",
            "Requirement already satisfied: scipy>=1.1.0 in /usr/local/lib/python3.7/dist-packages (from tensorflow_graphics) (1.7.3)\n",
            "Requirement already satisfied: trimesh>=2.37.22 in /usr/local/lib/python3.7/dist-packages (from tensorflow_graphics) (3.15.8)\n",
            "Requirement already satisfied: tqdm>=4.45.0 in /usr/local/lib/python3.7/dist-packages (from tensorflow_graphics) (4.64.1)\n",
            "Requirement already satisfied: absl-py>=0.6.1 in /usr/local/lib/python3.7/dist-packages (from tensorflow_graphics) (1.3.0)\n",
            "Requirement already satisfied: h5py>=2.10.0 in /usr/local/lib/python3.7/dist-packages (from tensorflow_graphics) (3.1.0)\n",
            "Requirement already satisfied: matplotlib>=2.2.5 in /usr/local/lib/python3.7/dist-packages (from tensorflow_graphics) (3.2.2)\n",
            "Requirement already satisfied: networkx in /usr/local/lib/python3.7/dist-packages (from tensorflow_graphics) (2.6.3)\n",
            "Requirement already satisfied: tensorflow-datasets>=2.0.0 in /usr/local/lib/python3.7/dist-packages (from tensorflow_graphics) (4.6.0)\n",
            "Requirement already satisfied: numpy>=1.15.4 in /usr/local/lib/python3.7/dist-packages (from tensorflow_graphics) (1.21.6)\n",
            "Requirement already satisfied: psutil>=5.7.0 in /usr/local/lib/python3.7/dist-packages (from tensorflow_graphics) (5.9.3)\n",
            "Requirement already satisfied: cached-property in /usr/local/lib/python3.7/dist-packages (from h5py>=2.10.0->tensorflow_graphics) (1.5.2)\n",
            "Requirement already satisfied: kiwisolver>=1.0.1 in /usr/local/lib/python3.7/dist-packages (from matplotlib>=2.2.5->tensorflow_graphics) (1.4.4)\n",
            "Requirement already satisfied: cycler>=0.10 in /usr/local/lib/python3.7/dist-packages (from matplotlib>=2.2.5->tensorflow_graphics) (0.11.0)\n",
            "Requirement already satisfied: python-dateutil>=2.1 in /usr/local/lib/python3.7/dist-packages (from matplotlib>=2.2.5->tensorflow_graphics) (2.8.2)\n",
            "Requirement already satisfied: pyparsing!=2.0.4,!=2.1.2,!=2.1.6,>=2.0.1 in /usr/local/lib/python3.7/dist-packages (from matplotlib>=2.2.5->tensorflow_graphics) (3.0.9)\n",
            "Requirement already satisfied: typing-extensions in /usr/local/lib/python3.7/dist-packages (from kiwisolver>=1.0.1->matplotlib>=2.2.5->tensorflow_graphics) (4.1.1)\n",
            "Requirement already satisfied: six>=1.5 in /usr/local/lib/python3.7/dist-packages (from python-dateutil>=2.1->matplotlib>=2.2.5->tensorflow_graphics) (1.15.0)\n",
            "Requirement already satisfied: google-pasta>=0.1.1 in /usr/local/lib/python3.7/dist-packages (from tensorflow>=2.2.0->tensorflow_graphics) (0.2.0)\n",
            "Requirement already satisfied: wrapt>=1.11.0 in /usr/local/lib/python3.7/dist-packages (from tensorflow>=2.2.0->tensorflow_graphics) (1.14.1)\n",
            "Requirement already satisfied: grpcio<2.0,>=1.24.3 in /usr/local/lib/python3.7/dist-packages (from tensorflow>=2.2.0->tensorflow_graphics) (1.50.0)\n",
            "Requirement already satisfied: tensorboard<2.10,>=2.9 in /usr/local/lib/python3.7/dist-packages (from tensorflow>=2.2.0->tensorflow_graphics) (2.9.1)\n",
            "Requirement already satisfied: tensorflow-estimator<2.10.0,>=2.9.0rc0 in /usr/local/lib/python3.7/dist-packages (from tensorflow>=2.2.0->tensorflow_graphics) (2.9.0)\n",
            "Requirement already satisfied: keras<2.10.0,>=2.9.0rc0 in /usr/local/lib/python3.7/dist-packages (from tensorflow>=2.2.0->tensorflow_graphics) (2.9.0)\n",
            "Requirement already satisfied: packaging in /usr/local/lib/python3.7/dist-packages (from tensorflow>=2.2.0->tensorflow_graphics) (21.3)\n",
            "Requirement already satisfied: tensorflow-io-gcs-filesystem>=0.23.1 in /usr/local/lib/python3.7/dist-packages (from tensorflow>=2.2.0->tensorflow_graphics) (0.27.0)\n",
            "Requirement already satisfied: flatbuffers<2,>=1.12 in /usr/local/lib/python3.7/dist-packages (from tensorflow>=2.2.0->tensorflow_graphics) (1.12)\n",
            "Requirement already satisfied: opt-einsum>=2.3.2 in /usr/local/lib/python3.7/dist-packages (from tensorflow>=2.2.0->tensorflow_graphics) (3.3.0)\n",
            "Requirement already satisfied: setuptools in /usr/local/lib/python3.7/dist-packages (from tensorflow>=2.2.0->tensorflow_graphics) (57.4.0)\n",
            "Requirement already satisfied: gast<=0.4.0,>=0.2.1 in /usr/local/lib/python3.7/dist-packages (from tensorflow>=2.2.0->tensorflow_graphics) (0.4.0)\n",
            "Requirement already satisfied: astunparse>=1.6.0 in /usr/local/lib/python3.7/dist-packages (from tensorflow>=2.2.0->tensorflow_graphics) (1.6.3)\n",
            "Requirement already satisfied: protobuf<3.20,>=3.9.2 in /usr/local/lib/python3.7/dist-packages (from tensorflow>=2.2.0->tensorflow_graphics) (3.17.3)\n",
            "Requirement already satisfied: keras-preprocessing>=1.1.1 in /usr/local/lib/python3.7/dist-packages (from tensorflow>=2.2.0->tensorflow_graphics) (1.1.2)\n",
            "Requirement already satisfied: libclang>=13.0.0 in /usr/local/lib/python3.7/dist-packages (from tensorflow>=2.2.0->tensorflow_graphics) (14.0.6)\n",
            "Requirement already satisfied: wheel<1.0,>=0.23.0 in /usr/local/lib/python3.7/dist-packages (from astunparse>=1.6.0->tensorflow>=2.2.0->tensorflow_graphics) (0.37.1)\n",
            "Requirement already satisfied: werkzeug>=1.0.1 in /usr/local/lib/python3.7/dist-packages (from tensorboard<2.10,>=2.9->tensorflow>=2.2.0->tensorflow_graphics) (1.0.1)\n",
            "Requirement already satisfied: tensorboard-data-server<0.7.0,>=0.6.0 in /usr/local/lib/python3.7/dist-packages (from tensorboard<2.10,>=2.9->tensorflow>=2.2.0->tensorflow_graphics) (0.6.1)\n",
            "Requirement already satisfied: requests<3,>=2.21.0 in /usr/local/lib/python3.7/dist-packages (from tensorboard<2.10,>=2.9->tensorflow>=2.2.0->tensorflow_graphics) (2.23.0)\n",
            "Requirement already satisfied: tensorboard-plugin-wit>=1.6.0 in /usr/local/lib/python3.7/dist-packages (from tensorboard<2.10,>=2.9->tensorflow>=2.2.0->tensorflow_graphics) (1.8.1)\n",
            "Requirement already satisfied: markdown>=2.6.8 in /usr/local/lib/python3.7/dist-packages (from tensorboard<2.10,>=2.9->tensorflow>=2.2.0->tensorflow_graphics) (3.4.1)\n",
            "Requirement already satisfied: google-auth-oauthlib<0.5,>=0.4.1 in /usr/local/lib/python3.7/dist-packages (from tensorboard<2.10,>=2.9->tensorflow>=2.2.0->tensorflow_graphics) (0.4.6)\n",
            "Requirement already satisfied: google-auth<3,>=1.6.3 in /usr/local/lib/python3.7/dist-packages (from tensorboard<2.10,>=2.9->tensorflow>=2.2.0->tensorflow_graphics) (1.35.0)\n",
            "Requirement already satisfied: cachetools<5.0,>=2.0.0 in /usr/local/lib/python3.7/dist-packages (from google-auth<3,>=1.6.3->tensorboard<2.10,>=2.9->tensorflow>=2.2.0->tensorflow_graphics) (4.2.4)\n",
            "Requirement already satisfied: pyasn1-modules>=0.2.1 in /usr/local/lib/python3.7/dist-packages (from google-auth<3,>=1.6.3->tensorboard<2.10,>=2.9->tensorflow>=2.2.0->tensorflow_graphics) (0.2.8)\n",
            "Requirement already satisfied: rsa<5,>=3.1.4 in /usr/local/lib/python3.7/dist-packages (from google-auth<3,>=1.6.3->tensorboard<2.10,>=2.9->tensorflow>=2.2.0->tensorflow_graphics) (4.9)\n",
            "Requirement already satisfied: requests-oauthlib>=0.7.0 in /usr/local/lib/python3.7/dist-packages (from google-auth-oauthlib<0.5,>=0.4.1->tensorboard<2.10,>=2.9->tensorflow>=2.2.0->tensorflow_graphics) (1.3.1)\n",
            "Requirement already satisfied: importlib-metadata>=4.4 in /usr/local/lib/python3.7/dist-packages (from markdown>=2.6.8->tensorboard<2.10,>=2.9->tensorflow>=2.2.0->tensorflow_graphics) (4.13.0)\n",
            "Requirement already satisfied: zipp>=0.5 in /usr/local/lib/python3.7/dist-packages (from importlib-metadata>=4.4->markdown>=2.6.8->tensorboard<2.10,>=2.9->tensorflow>=2.2.0->tensorflow_graphics) (3.9.0)\n",
            "Requirement already satisfied: pyasn1<0.5.0,>=0.4.6 in /usr/local/lib/python3.7/dist-packages (from pyasn1-modules>=0.2.1->google-auth<3,>=1.6.3->tensorboard<2.10,>=2.9->tensorflow>=2.2.0->tensorflow_graphics) (0.4.8)\n",
            "Requirement already satisfied: idna<3,>=2.5 in /usr/local/lib/python3.7/dist-packages (from requests<3,>=2.21.0->tensorboard<2.10,>=2.9->tensorflow>=2.2.0->tensorflow_graphics) (2.10)\n",
            "Requirement already satisfied: certifi>=2017.4.17 in /usr/local/lib/python3.7/dist-packages (from requests<3,>=2.21.0->tensorboard<2.10,>=2.9->tensorflow>=2.2.0->tensorflow_graphics) (2022.9.24)\n",
            "Requirement already satisfied: chardet<4,>=3.0.2 in /usr/local/lib/python3.7/dist-packages (from requests<3,>=2.21.0->tensorboard<2.10,>=2.9->tensorflow>=2.2.0->tensorflow_graphics) (3.0.4)\n",
            "Requirement already satisfied: urllib3!=1.25.0,!=1.25.1,<1.26,>=1.21.1 in /usr/local/lib/python3.7/dist-packages (from requests<3,>=2.21.0->tensorboard<2.10,>=2.9->tensorflow>=2.2.0->tensorflow_graphics) (1.24.3)\n",
            "Requirement already satisfied: oauthlib>=3.0.0 in /usr/local/lib/python3.7/dist-packages (from requests-oauthlib>=0.7.0->google-auth-oauthlib<0.5,>=0.4.1->tensorboard<2.10,>=2.9->tensorflow>=2.2.0->tensorflow_graphics) (3.2.2)\n",
            "Requirement already satisfied: typeguard>=2.7 in /usr/local/lib/python3.7/dist-packages (from tensorflow-addons>=0.10.0->tensorflow_graphics) (2.7.1)\n",
            "Requirement already satisfied: importlib-resources in /usr/local/lib/python3.7/dist-packages (from tensorflow-datasets>=2.0.0->tensorflow_graphics) (5.10.0)\n",
            "Requirement already satisfied: tensorflow-metadata in /usr/local/lib/python3.7/dist-packages (from tensorflow-datasets>=2.0.0->tensorflow_graphics) (1.10.0)\n",
            "Requirement already satisfied: etils[epath] in /usr/local/lib/python3.7/dist-packages (from tensorflow-datasets>=2.0.0->tensorflow_graphics) (0.8.0)\n",
            "Requirement already satisfied: toml in /usr/local/lib/python3.7/dist-packages (from tensorflow-datasets>=2.0.0->tensorflow_graphics) (0.10.2)\n",
            "Requirement already satisfied: dill in /usr/local/lib/python3.7/dist-packages (from tensorflow-datasets>=2.0.0->tensorflow_graphics) (0.3.5.1)\n",
            "Requirement already satisfied: promise in /usr/local/lib/python3.7/dist-packages (from tensorflow-datasets>=2.0.0->tensorflow_graphics) (2.3)\n",
            "Requirement already satisfied: googleapis-common-protos<2,>=1.52.0 in /usr/local/lib/python3.7/dist-packages (from tensorflow-metadata->tensorflow-datasets>=2.0.0->tensorflow_graphics) (1.56.4)\n"
          ]
        }
      ]
    },
    {
      "cell_type": "code",
      "execution_count": null,
      "metadata": {
        "id": "o-ErDSksnw0K"
      },
      "outputs": [],
      "source": [
        "import trimesh\n",
        "import tensorflow as tf\n",
        "import tensorflow_graphics as tfg\n",
        "from tensorflow_graphics.datasets.modelnet40 import ModelNet40\n"
      ]
    },
    {
      "cell_type": "code",
      "source": [
        "import os\n",
        "import h5py\n",
        "import tensorflow as tf\n",
        "import tensorflow_datasets as tfds\n",
        "import matplotlib.pyplot as plt\n",
        "from mpl_toolkits.mplot3d import Axes3D  # pylint:disable=unused-import"
      ],
      "metadata": {
        "id": "T8jeijrUn_E2"
      },
      "execution_count": null,
      "outputs": []
    },
    {
      "cell_type": "code",
      "source": [
        "_LABELS = [\n",
        "    'airplane', 'bathtub', 'bed', 'bench', 'bookshelf', 'bottle', 'bowl', 'car',\n",
        "    'chair', 'cone', 'cup', 'curtain', 'desk', 'door', 'dresser', 'flower_pot',\n",
        "    'glass_box', 'guitar', 'keyboard', 'lamp', 'laptop', 'mantel', 'monitor',\n",
        "    'night_stand', 'person', 'piano', 'plant', 'radio', 'range_hood', 'sink',\n",
        "    'sofa', 'stairs', 'stool', 'table', 'tent', 'toilet', 'tv_stand', 'vase',\n",
        "    'wardrobe', 'xbox'\n",
        "]"
      ],
      "metadata": {
        "id": "_eoQkJA58_5j"
      },
      "execution_count": null,
      "outputs": []
    },
    {
      "cell_type": "code",
      "source": [
        "tfg.datasets.modelnet40.ModelNet40(\n",
        "    _URL, None,\n",
        ")"
      ],
      "metadata": {
        "colab": {
          "base_uri": "https://localhost:8080/",
          "height": 200
        },
        "id": "Zpvf4SgOolzq",
        "outputId": "f9ca463a-c98f-4ee8-904e-9c579b36b11f"
      },
      "execution_count": null,
      "outputs": [
        {
          "output_type": "error",
          "ename": "TypeError",
          "evalue": "ignored",
          "traceback": [
            "\u001b[0;31m---------------------------------------------------------------------------\u001b[0m",
            "\u001b[0;31mTypeError\u001b[0m                                 Traceback (most recent call last)",
            "\u001b[0;32m<ipython-input-79-3448ecc8e51a>\u001b[0m in \u001b[0;36m<module>\u001b[0;34m\u001b[0m\n\u001b[1;32m      1\u001b[0m tfg.datasets.modelnet40.ModelNet40(\n\u001b[0;32m----> 2\u001b[0;31m     \u001b[0m_URL\u001b[0m\u001b[0;34m,\u001b[0m \u001b[0;32mNone\u001b[0m\u001b[0;34m,\u001b[0m\u001b[0;34m\u001b[0m\u001b[0;34m\u001b[0m\u001b[0m\n\u001b[0m\u001b[1;32m      3\u001b[0m )\n",
            "\u001b[0;31mTypeError\u001b[0m: __init__() takes 1 positional argument but 3 were given"
          ]
        }
      ]
    },
    {
      "cell_type": "code",
      "source": [
        "# Constants\n",
        "_URL = '/content/drive/MyDrive/modelnet40_ply_hdf5_2048.zip'"
      ],
      "metadata": {
        "id": "TwjvVQeVBDgu"
      },
      "execution_count": null,
      "outputs": []
    },
    {
      "cell_type": "code",
      "source": [
        "_CITATION = \"\"\"\n",
        "@inproceedings{qi2017pointnet,\n",
        "  title={Pointnet: Deep learning on point sets for 3d classification and segmentation},\n",
        "  author={Qi, Charles R and Su, Hao and Mo, Kaichun and Guibas, Leonidas J},\n",
        "  booktitle={Proceedings of the IEEE conference on computer vision and pattern recognition},\n",
        "  pages={652--660},\n",
        "  year={2017},\n",
        "}"
      ],
      "metadata": {
        "colab": {
          "base_uri": "https://localhost:8080/",
          "height": 148
        },
        "id": "0-8bsgcXBEdv",
        "outputId": "a89b5461-1364-4501-876b-d6b73c76d488"
      },
      "execution_count": null,
      "outputs": [
        {
          "output_type": "error",
          "ename": "SyntaxError",
          "evalue": "ignored",
          "traceback": [
            "\u001b[0;36m  File \u001b[0;32m\"<ipython-input-21-1cc837ae6438>\"\u001b[0;36m, line \u001b[0;32m8\u001b[0m\n\u001b[0;31m    }\u001b[0m\n\u001b[0m     \n^\u001b[0m\n\u001b[0;31mSyntaxError\u001b[0m\u001b[0;31m:\u001b[0m EOF while scanning triple-quoted string literal\n"
          ]
        }
      ]
    },
    {
      "cell_type": "code",
      "source": [
        "\"\"\"\n",
        "\n",
        "_DESCRIPTION = \"\"\"\n",
        "The dataset contains point clouds sampling CAD models from 40 different categories.\n",
        "The files have been retrieved from https://modelnet.cs.princeton.edu\n",
        "To generate each example, the authors first uniformly sampled a modelnet40 mesh\n",
        "with 10000 uniform samples, and then employed furthest point sampling to downsample\n",
        "to 2048 points. The procedure is explained [here](https://github.com/charlesq34/pointnet2/blob/master/tf_ops/sampling/tf_sampling.py)\n",
        "\"\"\""
      ],
      "metadata": {
        "id": "anaF7LC6BHzE"
      },
      "execution_count": null,
      "outputs": []
    },
    {
      "cell_type": "code",
      "source": [
        "class ModelNet40(tfds.core.GeneratorBasedBuilder):\n",
        "  \"\"\"ModelNet40.\"\"\"\n",
        "\n",
        "  VERSION = tfds.core.Version('1.0.0')\n",
        "\n",
        "  @staticmethod\n",
        "  def load(*args, **kwargs):\n",
        "    return tfds.load('model_net40', *args, **kwargs)  # pytype: disable=wrong-arg-count\n",
        "\n",
        "  def _info(self):\n",
        "    return tfds.core.DatasetInfo(\n",
        "        builder=self,\n",
        "        ##description=_DESCRIPTION,\n",
        "        features=tfds.features.FeaturesDict({\n",
        "            'points': tfds.features.Tensor(shape=(2048, 3), dtype=tf.float32),\n",
        "            'label': tfds.features.ClassLabel(names=_LABELS)\n",
        "        }),\n",
        "        supervised_keys=('points', 'label'),\n",
        "        #homepage='https://modelnet.cs.princeton.edu',\n",
        "        ##citation=_CITATION,\n",
        "    )\n",
        "\n",
        "  def _split_generators(self, download_manager):\n",
        "    \"\"\"Returns SplitGenerators.\"\"\"\n",
        "\n",
        "    extracted_path = download_manager.download_and_extract(_URL)\n",
        "\n",
        "    # Note: VALIDATION split was not provided by the authors\n",
        "    return [\n",
        "        tfds.core.SplitGenerator(\n",
        "            name=tfds.Split.TRAIN,\n",
        "            gen_kwargs=dict(\n",
        "                filename_list_path=os.path.join(\n",
        "                    extracted_path,\n",
        "                    'modelnet40_ply_hdf5_2048/train_files.txt'),)),\n",
        "        tfds.core.SplitGenerator(\n",
        "            name=tfds.Split.TEST,\n",
        "            gen_kwargs=dict(\n",
        "                filename_list_path=os.path.join(\n",
        "                    extracted_path,\n",
        "                    'modelnet40_ply_hdf5_2048/test_files.txt'),)),\n",
        "    ]\n",
        "\n",
        "  def _generate_examples(self, filename_list_path):\n",
        "    \"\"\"Yields examples.\"\"\"\n",
        "\n",
        "    ancestor_path = os.path.dirname(os.path.dirname(filename_list_path))\n",
        "    with tf.io.gfile.GFile(filename_list_path, 'r') as fid:\n",
        "      filename_list = fid.readlines()\n",
        "    filename_list = [line.rstrip()[5:] for line in filename_list]\n",
        "\n",
        "    example_key = -1  # as yield exists, need to pre-increment\n",
        "    for filename in filename_list:\n",
        "      h5path = os.path.join(ancestor_path, filename)\n",
        "\n",
        "      with h5py.File(h5path, 'r') as h5file:\n",
        "        points = h5file['data'][:]  # shape=(2048, 2048, 3)\n",
        "        label = h5file['label'][:]  # shape=(2048, )\n",
        "\n",
        "        models_per_file = points.shape[0]\n",
        "        for imodel in range(models_per_file):\n",
        "          example_key += 1\n",
        "          yield example_key, {\n",
        "              'points': points[imodel, :, :],\n",
        "              'label': int(label[imodel])\n",
        "          }"
      ],
      "metadata": {
        "id": "nrW4JuDy9VIO"
      },
      "execution_count": null,
      "outputs": []
    },
    {
      "cell_type": "code",
      "source": [
        "ds_train, info = ModelNet40.load(\n",
        "      split=\"train\", data_dir=\"/content/drive/MyDrive/modelnet40\", with_info=True)"
      ],
      "metadata": {
        "id": "A7AMXFXr_G9c"
      },
      "execution_count": null,
      "outputs": []
    },
    {
      "cell_type": "code",
      "source": [
        "ds_test, info = ModelNet40.load(\n",
        "      split=\"test\", data_dir=\"/content/drive/MyDrive/modelnet40\", with_info=True)"
      ],
      "metadata": {
        "id": "aDnZdvpI7gc9"
      },
      "execution_count": null,
      "outputs": []
    },
    {
      "cell_type": "code",
      "source": [
        "for example in ds_train.take(1):\n",
        "    points = example[\"points\"]\n",
        "    label = example[\"label\"]\n",
        "print(\"points.shape=\", points.shape)\n",
        "print(\"label.shape\", label.shape)    "
      ],
      "metadata": {
        "id": "xHs277GT_UO9",
        "colab": {
          "base_uri": "https://localhost:8080/"
        },
        "outputId": "5704848e-d445-45f5-d5cb-3e010a8e9824"
      },
      "execution_count": null,
      "outputs": [
        {
          "output_type": "stream",
          "name": "stdout",
          "text": [
            "points.shape= (2048, 3)\n",
            "label.shape ()\n"
          ]
        }
      ]
    },
    {
      "cell_type": "code",
      "source": [
        "print(\"Example of string='{}' to ID#={}\".format(\n",
        "      \"airplane\", info.features[\"label\"].str2int(\"airplane\")))\n",
        "print(\"Example of ID#={} to string='{}'\".format(\n",
        "      12, info.features[\"label\"].int2str(12)))"
      ],
      "metadata": {
        "colab": {
          "base_uri": "https://localhost:8080/"
        },
        "id": "BveGC7fH_YR8",
        "outputId": "2caa6a9a-5ab3-4c24-aa8d-98d576e6db33"
      },
      "execution_count": null,
      "outputs": [
        {
          "output_type": "stream",
          "name": "stdout",
          "text": [
            "Example of string='airplane' to ID#=0\n",
            "Example of ID#=12 to string='desk'\n"
          ]
        }
      ]
    },
    {
      "cell_type": "code",
      "source": [
        "for i in range(40):\n",
        "  print(info.features[\"label\"].int2str(i))"
      ],
      "metadata": {
        "colab": {
          "base_uri": "https://localhost:8080/"
        },
        "id": "vXwtacOnvw4U",
        "outputId": "db9f1100-cfe8-43cf-ad7c-d8aca5086d7c"
      },
      "execution_count": null,
      "outputs": [
        {
          "output_type": "stream",
          "name": "stdout",
          "text": [
            "airplane\n",
            "bathtub\n",
            "bed\n",
            "bench\n",
            "bookshelf\n",
            "bottle\n",
            "bowl\n",
            "car\n",
            "chair\n",
            "cone\n",
            "cup\n",
            "curtain\n",
            "desk\n",
            "door\n",
            "dresser\n",
            "flower_pot\n",
            "glass_box\n",
            "guitar\n",
            "keyboard\n",
            "lamp\n",
            "laptop\n",
            "mantel\n",
            "monitor\n",
            "night_stand\n",
            "person\n",
            "piano\n",
            "plant\n",
            "radio\n",
            "range_hood\n",
            "sink\n",
            "sofa\n",
            "stairs\n",
            "stool\n",
            "table\n",
            "tent\n",
            "toilet\n",
            "tv_stand\n",
            "vase\n",
            "wardrobe\n",
            "xbox\n"
          ]
        }
      ]
    },
    {
      "cell_type": "code",
      "source": [
        "ds_train, info = tfg.datasets.modelnet40.ModelNet40.load(split=\"train\", with_info=True)\n",
        "num_examples = info.splits[\"train\"].num_examples\n",
        "ds_train = ds_train.shuffle(num_examples, reshuffle_each_iteration=True)\n",
        "#ds_train = ds_train.repeat(steps_per_epoch=20)\n",
        "ds_train = ds_train.batch(batch_size=32)\n",
        "ds_test = ds_test.batch(batch_size=32)"
      ],
      "metadata": {
        "id": "uOsDwtlq1I4a"
      },
      "execution_count": null,
      "outputs": []
    },
    {
      "cell_type": "code",
      "source": [
        "ds_train"
      ],
      "metadata": {
        "colab": {
          "base_uri": "https://localhost:8080/"
        },
        "id": "CagOSlfhP_KP",
        "outputId": "42eb8f82-bc65-4239-9130-f4607187ba80"
      },
      "execution_count": null,
      "outputs": [
        {
          "output_type": "execute_result",
          "data": {
            "text/plain": [
              "<BatchDataset element_spec={'label': TensorSpec(shape=(None,), dtype=tf.int64, name=None), 'points': TensorSpec(shape=(None, 2048, 3), dtype=tf.float32, name=None)}>"
            ]
          },
          "metadata": {},
          "execution_count": 97
        }
      ]
    },
    {
      "cell_type": "code",
      "source": [
        "ds_test"
      ],
      "metadata": {
        "colab": {
          "base_uri": "https://localhost:8080/"
        },
        "id": "jQNHnd2NQHvH",
        "outputId": "812335ec-2981-4968-8ff0-cf1f0f91e578"
      },
      "execution_count": null,
      "outputs": [
        {
          "output_type": "execute_result",
          "data": {
            "text/plain": [
              "<BatchDataset element_spec={'label': TensorSpec(shape=(None, None), dtype=tf.int64, name=None), 'points': TensorSpec(shape=(None, None, 2048, 3), dtype=tf.float32, name=None)}>"
            ]
          },
          "metadata": {},
          "execution_count": 73
        }
      ]
    },
    {
      "cell_type": "code",
      "source": [
        "train_dataset = tf.data.Dataset.from_tensor_slices(['points','label'])"
      ],
      "metadata": {
        "id": "OmqVF8U531u-"
      },
      "execution_count": null,
      "outputs": []
    },
    {
      "cell_type": "code",
      "source": [
        "test_dataset = tf.data.Dataset.from_tensor_slices(['points','label'])"
      ],
      "metadata": {
        "id": "vLQu23ym8utB"
      },
      "execution_count": null,
      "outputs": []
    },
    {
      "cell_type": "code",
      "source": [
        "fig = plt.figure()\n",
        "ax3 = fig.add_subplot(111, projection=\"3d\")\n",
        "ax3.set_title(\"Example with label {}\".format(label))\n",
        "scatter3 = lambda p, c=\"r\", *args: ax3.scatter(p[:, 0], p[:, 1], p[:, 2], c)\n",
        "scatter3(points)"
      ],
      "metadata": {
        "colab": {
          "base_uri": "https://localhost:8080/",
          "height": 265
        },
        "id": "FzbIJuuztSn-",
        "outputId": "9f43d43e-51ef-4aeb-ec43-a2913ffac570"
      },
      "execution_count": null,
      "outputs": [
        {
          "output_type": "execute_result",
          "data": {
            "text/plain": [
              "<mpl_toolkits.mplot3d.art3d.Path3DCollection at 0x7fe1a2012490>"
            ]
          },
          "metadata": {},
          "execution_count": 37
        },
        {
          "output_type": "display_data",
          "data": {
            "text/plain": [
              "<Figure size 432x288 with 1 Axes>"
            ],
            "image/png": "[encoded data removed]"
          },
          "metadata": {
            "needs_background": "light"
          }
        }
      ]
    },
    {
      "cell_type": "code",
      "source": [
        "import os\n",
        "import glob\n",
        "import trimesh\n",
        "import numpy as np\n",
        "import tensorflow as tf\n",
        "from tensorflow.keras import layers,Model,activations\n",
        "from tensorflow.keras.layers import Activation,Dense,Flatten,Conv1D,Dropout,BatchNormalization\n",
        "from tensorflow.keras.models import Sequential\n",
        "from tensorflow.keras.optimizers import Adam\n",
        "from tensorflow.keras.regularizers import Regularizer\n",
        "from matplotlib import pyplot as plt\n",
        "\n",
        "tf.random.set_seed(1234)"
      ],
      "metadata": {
        "id": "m_e0-vpCudDi"
      },
      "execution_count": null,
      "outputs": []
    },
    {
      "cell_type": "code",
      "source": [
        "def conv_layer(x,filters):\n",
        "  x = layers.Conv1D(filters,kernel_size=1,padding='valid')(x)\n",
        "  x = layers.BatchNormalization(momentum=0.0)(x)\n",
        "  return layers.Activation('relu')(x)\n",
        "\n",
        "def dense_layers(x,filters):\n",
        "    x = layers.Dense(filters)(x)\n",
        "    x = layers.BatchNormalization(momentum=0.0)(x)\n",
        "    return layers.Activation(\"relu\")(x)"
      ],
      "metadata": {
        "id": "BAOhGtK8trl8"
      },
      "execution_count": null,
      "outputs": []
    },
    {
      "cell_type": "code",
      "source": [
        "class OrthogonalRegularizer(tf.keras.regularizers.Regularizer):\n",
        "    def __init__(self, num_features, l2reg=0.001):\n",
        "        self.num_features = num_features\n",
        "        self.l2reg = l2reg\n",
        "        self.eye = tf.eye(num_features)\n",
        "\n",
        "    def __call__(self, x):\n",
        "        x = tf.reshape(x, (-1, self.num_features, self.num_features))\n",
        "        xxt = tf.tensordot(x, x, axes=(2, 2))\n",
        "        xxt = tf.reshape(xxt, (-1, self.num_features, self.num_features))\n",
        "        return tf.reduce_sum(self.l2reg * tf.square(xxt - self.eye))"
      ],
      "metadata": {
        "id": "L8vWeeUkuJxd"
      },
      "execution_count": null,
      "outputs": []
    },
    {
      "cell_type": "code",
      "source": [
        "def tnet(inputs, num_features):\n",
        "\n",
        "    # Initalise bias as the indentity matrix\n",
        "    bias = tf.keras.initializers.Constant(np.eye(num_features).flatten())\n",
        "    reg = OrthogonalRegularizer(num_features)\n",
        "\n",
        "    x = conv_layer(inputs, 32)\n",
        "    x = conv_layer(x, 64)\n",
        "    x = conv_layer(x, 512)\n",
        "    x = layers.GlobalMaxPooling1D()(x)\n",
        "    x = dense_layers(x, 256)\n",
        "    x = dense_layers(x, 128)\n",
        "    x = layers.Dense(\n",
        "        num_features * num_features,\n",
        "        kernel_initializer=\"zeros\",\n",
        "        bias_initializer=bias,\n",
        "        activity_regularizer=reg,\n",
        "    )(x)\n",
        "    feat_T = layers.Reshape((num_features, num_features))(x)\n",
        "    # Apply affine transformation to input features\n",
        "    return layers.Dot(axes=(2, 1))([inputs, feat_T])"
      ],
      "metadata": {
        "id": "krlafdWluR94"
      },
      "execution_count": null,
      "outputs": []
    },
    {
      "cell_type": "code",
      "source": [
        "input_shape =points.shape"
      ],
      "metadata": {
        "id": "dlCU6O1Izawm"
      },
      "execution_count": null,
      "outputs": []
    },
    {
      "cell_type": "code",
      "source": [
        "inputs = tf.keras.Input(shape=input_shape)\n",
        "\n",
        "x = tnet(inputs, 3)\n",
        "x = conv_layer(x, 32)\n",
        "x = conv_layer(x, 32)\n",
        "x = tnet(x, 32)\n",
        "x = conv_layer(x, 32)\n",
        "x = conv_layer(x, 64)\n",
        "x = conv_layer(x, 512)\n",
        "x = layers.GlobalMaxPooling1D()(x)\n",
        "x = dense_layers(x, 256)\n",
        "x = layers.Dropout(0.3)(x)\n",
        "x = dense_layers(x, 128)\n",
        "x = layers.Dropout(0.3)(x)\n",
        "\n",
        "outputs = layers.Dense(label, activation=\"softmax\")(x)\n",
        "\n",
        "model = tf.keras.Model(inputs=inputs, outputs=outputs, name=\"pointnet\")\n",
        "model.summary()"
      ],
      "metadata": {
        "id": "cnFacNJvuS2y"
      },
      "execution_count": null,
      "outputs": []
    },
    {
      "cell_type": "code",
      "source": [
        "model.compile(\n",
        "    loss=\"sparse_categorical_crossentropy\",\n",
        "    optimizer=tf.keras.optimizers.Adam(learning_rate=0.001),\n",
        "    metrics=[\"sparse_categorical_accuracy\"],\n",
        ")"
      ],
      "metadata": {
        "id": "zkbP0MWk0n1t"
      },
      "execution_count": null,
      "outputs": []
    },
    {
      "cell_type": "code",
      "source": [
        "model.fit(train_dataset,epochs=50,batch_size=32,steps_per_epoch=10,validation_data=test_dataset)"
      ],
      "metadata": {
        "colab": {
          "base_uri": "https://localhost:8080/",
          "height": 782
        },
        "id": "YPWMEOzE0u-W",
        "outputId": "48bbb5a6-5819-4704-bfd5-4c763ceddc7a"
      },
      "execution_count": null,
      "outputs": [
        {
          "output_type": "stream",
          "name": "stdout",
          "text": [
            "Epoch 1/50\n"
          ]
        },
        {
          "output_type": "stream",
          "name": "stderr",
          "text": [
            "WARNING:tensorflow:Model was constructed with shape (None, 2048, 3) for input KerasTensor(type_spec=TensorSpec(shape=(None, 2048, 3), dtype=tf.float32, name='input_8'), name='input_8', description=\"created by layer 'input_8'\"), but it was called on an input with incompatible shape ().\n"
          ]
        },
        {
          "output_type": "error",
          "ename": "ValueError",
          "evalue": "ignored",
          "traceback": [
            "\u001b[0;31m---------------------------------------------------------------------------\u001b[0m",
            "\u001b[0;31mValueError\u001b[0m                                Traceback (most recent call last)",
            "\u001b[0;32m<ipython-input-113-7f70a7e45ee8>\u001b[0m in \u001b[0;36m<module>\u001b[0;34m\u001b[0m\n\u001b[0;32m----> 1\u001b[0;31m \u001b[0mmodel\u001b[0m\u001b[0;34m.\u001b[0m\u001b[0mfit\u001b[0m\u001b[0;34m(\u001b[0m\u001b[0mtrain_dataset\u001b[0m\u001b[0;34m,\u001b[0m\u001b[0mepochs\u001b[0m\u001b[0;34m=\u001b[0m\u001b[0;36m50\u001b[0m\u001b[0;34m,\u001b[0m\u001b[0mbatch_size\u001b[0m\u001b[0;34m=\u001b[0m\u001b[0;36m32\u001b[0m\u001b[0;34m,\u001b[0m\u001b[0msteps_per_epoch\u001b[0m\u001b[0;34m=\u001b[0m\u001b[0;36m10\u001b[0m\u001b[0;34m,\u001b[0m\u001b[0mvalidation_data\u001b[0m\u001b[0;34m=\u001b[0m\u001b[0mtest_dataset\u001b[0m\u001b[0;34m)\u001b[0m\u001b[0;34m\u001b[0m\u001b[0;34m\u001b[0m\u001b[0m\n\u001b[0m",
            "\u001b[0;32m/usr/local/lib/python3.7/dist-packages/keras/utils/traceback_utils.py\u001b[0m in \u001b[0;36merror_handler\u001b[0;34m(*args, **kwargs)\u001b[0m\n\u001b[1;32m     65\u001b[0m     \u001b[0;32mexcept\u001b[0m \u001b[0mException\u001b[0m \u001b[0;32mas\u001b[0m \u001b[0me\u001b[0m\u001b[0;34m:\u001b[0m  \u001b[0;31m# pylint: disable=broad-except\u001b[0m\u001b[0;34m\u001b[0m\u001b[0;34m\u001b[0m\u001b[0m\n\u001b[1;32m     66\u001b[0m       \u001b[0mfiltered_tb\u001b[0m \u001b[0;34m=\u001b[0m \u001b[0m_process_traceback_frames\u001b[0m\u001b[0;34m(\u001b[0m\u001b[0me\u001b[0m\u001b[0;34m.\u001b[0m\u001b[0m__traceback__\u001b[0m\u001b[0;34m)\u001b[0m\u001b[0;34m\u001b[0m\u001b[0;34m\u001b[0m\u001b[0m\n\u001b[0;32m---> 67\u001b[0;31m       \u001b[0;32mraise\u001b[0m \u001b[0me\u001b[0m\u001b[0;34m.\u001b[0m\u001b[0mwith_traceback\u001b[0m\u001b[0;34m(\u001b[0m\u001b[0mfiltered_tb\u001b[0m\u001b[0;34m)\u001b[0m \u001b[0;32mfrom\u001b[0m \u001b[0;32mNone\u001b[0m\u001b[0;34m\u001b[0m\u001b[0;34m\u001b[0m\u001b[0m\n\u001b[0m\u001b[1;32m     68\u001b[0m     \u001b[0;32mfinally\u001b[0m\u001b[0;34m:\u001b[0m\u001b[0;34m\u001b[0m\u001b[0;34m\u001b[0m\u001b[0m\n\u001b[1;32m     69\u001b[0m       \u001b[0;32mdel\u001b[0m \u001b[0mfiltered_tb\u001b[0m\u001b[0;34m\u001b[0m\u001b[0;34m\u001b[0m\u001b[0m\n",
            "\u001b[0;32m/usr/local/lib/python3.7/dist-packages/keras/engine/training.py\u001b[0m in \u001b[0;36mtf__train_function\u001b[0;34m(iterator)\u001b[0m\n\u001b[1;32m     13\u001b[0m                 \u001b[0;32mtry\u001b[0m\u001b[0;34m:\u001b[0m\u001b[0;34m\u001b[0m\u001b[0;34m\u001b[0m\u001b[0m\n\u001b[1;32m     14\u001b[0m                     \u001b[0mdo_return\u001b[0m \u001b[0;34m=\u001b[0m \u001b[0;32mTrue\u001b[0m\u001b[0;34m\u001b[0m\u001b[0;34m\u001b[0m\u001b[0m\n\u001b[0;32m---> 15\u001b[0;31m                     \u001b[0mretval_\u001b[0m \u001b[0;34m=\u001b[0m \u001b[0mag__\u001b[0m\u001b[0;34m.\u001b[0m\u001b[0mconverted_call\u001b[0m\u001b[0;34m(\u001b[0m\u001b[0mag__\u001b[0m\u001b[0;34m.\u001b[0m\u001b[0mld\u001b[0m\u001b[0;34m(\u001b[0m\u001b[0mstep_function\u001b[0m\u001b[0;34m)\u001b[0m\u001b[0;34m,\u001b[0m \u001b[0;34m(\u001b[0m\u001b[0mag__\u001b[0m\u001b[0;34m.\u001b[0m\u001b[0mld\u001b[0m\u001b[0;34m(\u001b[0m\u001b[0mself\u001b[0m\u001b[0;34m)\u001b[0m\u001b[0;34m,\u001b[0m \u001b[0mag__\u001b[0m\u001b[0;34m.\u001b[0m\u001b[0mld\u001b[0m\u001b[0;34m(\u001b[0m\u001b[0miterator\u001b[0m\u001b[0;34m)\u001b[0m\u001b[0;34m)\u001b[0m\u001b[0;34m,\u001b[0m \u001b[0;32mNone\u001b[0m\u001b[0;34m,\u001b[0m \u001b[0mfscope\u001b[0m\u001b[0;34m)\u001b[0m\u001b[0;34m\u001b[0m\u001b[0;34m\u001b[0m\u001b[0m\n\u001b[0m\u001b[1;32m     16\u001b[0m                 \u001b[0;32mexcept\u001b[0m\u001b[0;34m:\u001b[0m\u001b[0;34m\u001b[0m\u001b[0;34m\u001b[0m\u001b[0m\n\u001b[1;32m     17\u001b[0m                     \u001b[0mdo_return\u001b[0m \u001b[0;34m=\u001b[0m \u001b[0;32mFalse\u001b[0m\u001b[0;34m\u001b[0m\u001b[0;34m\u001b[0m\u001b[0m\n",
            "\u001b[0;31mValueError\u001b[0m: in user code:\n\n    File \"/usr/local/lib/python3.7/dist-packages/keras/engine/training.py\", line 1051, in train_function  *\n        return step_function(self, iterator)\n    File \"/usr/local/lib/python3.7/dist-packages/keras/engine/training.py\", line 1040, in step_function  **\n        outputs = model.distribute_strategy.run(run_step, args=(data,))\n    File \"/usr/local/lib/python3.7/dist-packages/keras/engine/training.py\", line 1030, in run_step  **\n        outputs = model.train_step(data)\n    File \"/usr/local/lib/python3.7/dist-packages/keras/engine/training.py\", line 889, in train_step\n        y_pred = self(x, training=True)\n    File \"/usr/local/lib/python3.7/dist-packages/keras/utils/traceback_utils.py\", line 67, in error_handler\n        raise e.with_traceback(filtered_tb) from None\n    File \"/usr/local/lib/python3.7/dist-packages/keras/engine/input_spec.py\", line 228, in assert_input_compatibility\n        raise ValueError(f'Input {input_index} of layer \"{layer_name}\" '\n\n    ValueError: Exception encountered when calling layer \"pointnet\" (type Functional).\n    \n    Input 0 of layer \"conv1d_44\" is incompatible with the layer: expected min_ndim=3, found ndim=0. Full shape received: ()\n    \n    Call arguments received by layer \"pointnet\" (type Functional):\n      • inputs=tf.Tensor(shape=(), dtype=string)\n      • training=True\n      • mask=None\n"
          ]
        }
      ]
    },
    {
      "cell_type": "markdown",
      "source": [
        "Another Method"
      ],
      "metadata": {
        "id": "8C8Fz-CFa9fE"
      }
    },
    {
      "cell_type": "code",
      "source": [
        "Data_ModelNet_40 = tf.keras.utils.get_file(\n",
        "    \"modelnet40_ply_hdf5_2048.zip\",\n",
        "    \"file:///content/drive/MyDrive/modelnet40_ply_hdf5_2048.zip\",\n",
        "    extract=True,\n",
        ")                        \n",
        "Data_ModelNet_40 = os.path.join(os.path.dirname(Data_ModelNet_40), \"ModelNet40\")  "
      ],
      "metadata": {
        "id": "PhBlw8wqC5Xk"
      },
      "execution_count": null,
      "outputs": []
    },
    {
      "cell_type": "code",
      "source": [
        "def create_test_train(num_points=2048):\n",
        "  \n",
        "  train_points = []\n",
        "  train_labels = []\n",
        "  test_points  = []\n",
        "  test_labels  = []\n",
        "  class_map = {}\n",
        "  folders = glob.glob(os.path.join(Data_ModelNet_40,\"[!README]*\"))\n",
        "  #print(folders)\n",
        "  print('to enter')\n",
        "  print(folders)\n",
        "  for i, folder in enumerate(folders):\n",
        "    #print(\"processing class: {}\".format(os.path.basename(folder)))\n",
        "    class_map[i] = folder.split(\"/\")[-1]\n",
        "    #print(class_map[i])\n",
        "    train_files = glob.glob(os.path.join(folder,\"train/*\"))\n",
        "    test_files = glob.glob(os.path.join(folder,\"test/*\"))\n",
        "\n",
        "    for f in train_files:\n",
        "      train_points.append(trimesh.load(f).sample(num_points))\n",
        "      train_labels.append(i)\n",
        "\n",
        "    for f in test_files:\n",
        "      test_points.append(trimesh.load(f).sample(num_points))\n",
        "      test_labels.append(i)\n",
        "\n",
        "  print(class_map)\n",
        "  return(\n",
        "      np.array(train_points),\n",
        "      np.array(test_points),\n",
        "      np.array(train_labels),\n",
        "      np.array(test_labels),\n",
        "      class_map,\n",
        "  )   "
      ],
      "metadata": {
        "id": "WrIL1iD-D3bC"
      },
      "execution_count": null,
      "outputs": []
    },
    {
      "cell_type": "code",
      "source": [
        "points = 2048\n",
        "classes = 40\n",
        "batch_size = 32\n",
        "train_points, test_points, train_labels, test_labels, CLASS_MAP = create_test_train(points)"
      ],
      "metadata": {
        "colab": {
          "base_uri": "https://localhost:8080/"
        },
        "id": "li9Y0U0XD9lB",
        "outputId": "b2bd9efd-e0ce-4d12-a095-bd94d2761e2d"
      },
      "execution_count": null,
      "outputs": [
        {
          "output_type": "stream",
          "name": "stdout",
          "text": [
            "to enter\n",
            "[]\n",
            "{}\n"
          ]
        }
      ]
    },
    {
      "cell_type": "code",
      "source": [
        "train_points.shape"
      ],
      "metadata": {
        "colab": {
          "base_uri": "https://localhost:8080/"
        },
        "id": "ySWBv1rPEzJw",
        "outputId": "8dd0ad7a-074f-4079-e955-7f1c7a154e8e"
      },
      "execution_count": null,
      "outputs": [
        {
          "output_type": "execute_result",
          "data": {
            "text/plain": [
              "(0,)"
            ]
          },
          "metadata": {},
          "execution_count": 130
        }
      ]
    },
    {
      "cell_type": "code",
      "source": [
        "x = model_net40-test.tfrecord-00000-of-00001"
      ],
      "metadata": {
        "colab": {
          "base_uri": "https://localhost:8080/",
          "height": 130
        },
        "id": "c0E3pXMRFWOI",
        "outputId": "a551aef9-a958-4b20-dccd-1378583d0c05"
      },
      "execution_count": null,
      "outputs": [
        {
          "output_type": "error",
          "ename": "SyntaxError",
          "evalue": "ignored",
          "traceback": [
            "\u001b[0;36m  File \u001b[0;32m\"<ipython-input-136-8a0cc4081e24>\"\u001b[0;36m, line \u001b[0;32m1\u001b[0m\n\u001b[0;31m    x = model_net40-test.tfrecord-00000-of-00001\u001b[0m\n\u001b[0m                                               ^\u001b[0m\n\u001b[0;31mSyntaxError\u001b[0m\u001b[0;31m:\u001b[0m invalid token\n"
          ]
        }
      ]
    },
    {
      "cell_type": "code",
      "source": [
        "x"
      ],
      "metadata": {
        "colab": {
          "base_uri": "https://localhost:8080/",
          "height": 36
        },
        "id": "O2bqu-NxFbt6",
        "outputId": "0ad10479-8a32-446c-eab0-25a0298ed80f"
      },
      "execution_count": null,
      "outputs": [
        {
          "output_type": "execute_result",
          "data": {
            "text/plain": [
              "'/content/drive/MyDrive/modelnet40/model_net40/1.0.0/model_net40-test.tfrecord-00000-of-00001'"
            ],
            "application/vnd.google.colaboratory.intrinsic+json": {
              "type": "string"
            }
          },
          "metadata": {},
          "execution_count": 135
        }
      ]
    }
  ]
}