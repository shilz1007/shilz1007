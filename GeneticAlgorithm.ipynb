{
  "nbformat": 4,
  "nbformat_minor": 0,
  "metadata": {
    "colab": {
      "name": "GeneticAlgorithm.ipynb",
      "provenance": [],
      "collapsed_sections": [],
      "authorship_tag": "ABX9TyPF0J+RaQJDqWXMA9pyt2JB",
      "include_colab_link": true
    },
    "kernelspec": {
      "name": "python3",
      "display_name": "Python 3"
    },
    "language_info": {
      "name": "python"
    }
  },
  "cells": [
    {
      "cell_type": "markdown",
      "metadata": {
        "id": "view-in-github",
        "colab_type": "text"
      },
      "source": [
        "<a href=\"https://colab.research.google.com/github/shilz1007/shilz1007/blob/main/GeneticAlgorithm.ipynb\" target=\"_parent\"><img src=\"https://colab.research.google.com/assets/colab-badge.svg\" alt=\"Open In Colab\"/></a>"
      ]
    },
    {
      "cell_type": "code",
      "metadata": {
        "colab": {
          "base_uri": "https://localhost:8080/"
        },
        "id": "26HU_bkfiPfQ",
        "outputId": "4d3bc414-d12c-4775-c968-33f270cb43fe"
      },
      "source": [
        "!pip install ga\n",
        "!pip install pygad"
      ],
      "execution_count": 29,
      "outputs": [
        {
          "output_type": "stream",
          "name": "stdout",
          "text": [
            "Collecting ga\n",
            "  Downloading ga-0.1.1.dev.zip (19 kB)\n",
            "Building wheels for collected packages: ga\n",
            "  Building wheel for ga (setup.py) ... \u001b[?25l\u001b[?25hdone\n",
            "  Created wheel for ga: filename=ga-0.1.1.dev0-py3-none-any.whl size=19472 sha256=c04edb3462416d8eaff80bf040625d007bea247d7a6c049f1d44d4a3c4607354\n",
            "  Stored in directory: /root/.cache/pip/wheels/23/86/27/67b13c980a3673957d40a8e2cfbb89db59913324354a9abef2\n",
            "Successfully built ga\n",
            "Installing collected packages: ga\n",
            "Successfully installed ga-0.1.1.dev0\n",
            "Collecting pygad\n",
            "  Downloading pygad-2.16.1-py3-none-any.whl (53 kB)\n",
            "\u001b[K     |████████████████████████████████| 53 kB 1.5 MB/s \n",
            "\u001b[?25hRequirement already satisfied: matplotlib in /usr/local/lib/python3.7/dist-packages (from pygad) (3.2.2)\n",
            "Requirement already satisfied: numpy in /usr/local/lib/python3.7/dist-packages (from pygad) (1.19.5)\n",
            "Requirement already satisfied: python-dateutil>=2.1 in /usr/local/lib/python3.7/dist-packages (from matplotlib->pygad) (2.8.2)\n",
            "Requirement already satisfied: cycler>=0.10 in /usr/local/lib/python3.7/dist-packages (from matplotlib->pygad) (0.10.0)\n",
            "Requirement already satisfied: pyparsing!=2.0.4,!=2.1.2,!=2.1.6,>=2.0.1 in /usr/local/lib/python3.7/dist-packages (from matplotlib->pygad) (2.4.7)\n",
            "Requirement already satisfied: kiwisolver>=1.0.1 in /usr/local/lib/python3.7/dist-packages (from matplotlib->pygad) (1.3.2)\n",
            "Requirement already satisfied: six in /usr/local/lib/python3.7/dist-packages (from cycler>=0.10->matplotlib->pygad) (1.15.0)\n",
            "Installing collected packages: pygad\n",
            "Successfully installed pygad-2.16.1\n"
          ]
        }
      ]
    },
    {
      "cell_type": "code",
      "metadata": {
        "colab": {
          "base_uri": "https://localhost:8080/",
          "height": 502
        },
        "id": "Kv-adsIQCFPm",
        "outputId": "54c62c99-52d1-4439-a195-b9f457e3a8c2"
      },
      "source": [
        "import numpy\n",
        "import ga\n",
        "num_weights = 6\n",
        "sol_per_pop = 8\n",
        "equation_input = [4,-2,3.5,5,-11,-4.7]\n",
        "pop_size = (sol_per_pop , num_weights)\n",
        "new_population = numpy.random.uniform(low=0 , high=1,size=pop_size)\n",
        "\n",
        "num_generations = 5\n",
        "number_of_parents_mating = 4\n",
        "\n",
        "#Calculating the fitness function\n",
        "def cal_pop_fitness(equation_input,pop):\n",
        "    fitness = numpy.sum(pop*equation_input,axis = 1)\n",
        "    return fitness\n",
        "\n",
        "#selecting parents\n",
        "def select_mating_pool(pop,fitness,num_parents):\n",
        "    #print('pop',pop)\n",
        "    #print('fitness',fitness)\n",
        "    #print('num_parents',num_parents)\n",
        "    parents = numpy.empty((num_parents,pop.shape[1]))\n",
        "    for parent_num in range(num_parents):\n",
        "       max_fitness_idx = numpy.where(fitness == numpy.max(fitness))\n",
        "       max_fitness_idx = max_fitness_idx[0][0]\n",
        "       parents[parent_num, :] = pop[max_fitness_idx, :]\n",
        "       fitness[max_fitness_idx] = -99999999999\n",
        "    return parents   \n",
        "\n",
        "# Crossover \n",
        "def crossover(parents,offspring_size):\n",
        "    offspring = numpy.empty(offspring_size)\n",
        "    crossover_point = numpy.init(offspring_size[1]/2)\n",
        "    for k in range(offspring_size[0]):\n",
        "        # index of the first parent to mate \n",
        "        parent_idx = k%parents.shape[0]\n",
        "        #index of second parent to mate \n",
        "        parent2_idx = (k+1)%parents.shape[0]\n",
        "        #first half of the gene taken from the parent\n",
        "        offspring[k,0 : crossover_point] = parents[parent1_idx, 0:crossover_point]\n",
        "        #second half of the gene taken from another parent\n",
        "        offspring[k, crossover_point:] = parents[parent2_idx, crossover_point:]\n",
        "        return offspring\n",
        "def mutation(offspring_crossover):\n",
        "    for idx in range(offspring_crossover.shape[0]):\n",
        "        random_value = numpy.random.uniform(-0-1,1.0,1)\n",
        "        offspring_crossover[idx,4] = offspring_crossover[idx,4] + random_value\n",
        "    return offspring_crossover\n",
        "\n",
        "for generation in range(num_generations):\n",
        "    print('Generation : ',generation)\n",
        "\n",
        "    fitness = cal_pop_fitness(equation_input,new_population)\n",
        "    print('fitness values: ',fitness)\n",
        "\n",
        "    parents = select_mating_pool(new_population,fitness,number_of_parents_mating)\n",
        "    print('selected parents :',parents)\n",
        "    \n",
        "    offspring_crossover = crossover(parents,offspring_size=(pop_size[0]-parents.shape[0], num_weights))\n",
        "    print('crossover ',offspring_crossover)\n",
        "                                        \n",
        "    offspring_mutation = mutation(offspring_crossover)\n",
        "    print('mutation ',offspring_mutation)\n",
        "\n",
        "    print('best result after' + 'generation') \n",
        "   #        generation + numpy.where(fitness == numpy.max(fitness))\n",
        "\n",
        "    #creating new population based on parents and offspring\n",
        " #   new_population[0:parents.shape[0], :] = parents\n",
        "    new_population[0:parents.shape[0], :] = parents \n",
        "    new_population[parents.shape[0]:, :] = offspring_mutation\n",
        "\n",
        "\n",
        "\n"
      ],
      "execution_count": 30,
      "outputs": [
        {
          "output_type": "stream",
          "name": "stdout",
          "text": [
            "Generation :  0\n",
            "fitness values:  [ 2.21866369  1.03513888 -5.87086326  0.66727433 -1.42919771  1.70146135\n",
            " -8.75057394 -0.22735814]\n",
            "selected parents : [[0.95332163 0.25523407 0.04785274 0.72575128 0.43389169 0.02289086]\n",
            " [0.08169364 0.07198365 0.82656205 0.95531453 0.29661842 0.61448577]\n",
            " [0.22917645 0.74846613 0.78098989 0.80092311 0.19949177 0.62304368]\n",
            " [0.85996141 0.0570872  0.96591173 0.18778948 0.35401635 0.65613947]]\n"
          ]
        },
        {
          "output_type": "error",
          "ename": "AttributeError",
          "evalue": "ignored",
          "traceback": [
            "\u001b[0;31m---------------------------------------------------------------------------\u001b[0m",
            "\u001b[0;31mAttributeError\u001b[0m                            Traceback (most recent call last)",
            "\u001b[0;32m<ipython-input-30-0520efa7e1fd>\u001b[0m in \u001b[0;36m<module>\u001b[0;34m()\u001b[0m\n\u001b[1;32m     57\u001b[0m     \u001b[0mprint\u001b[0m\u001b[0;34m(\u001b[0m\u001b[0;34m'selected parents :'\u001b[0m\u001b[0;34m,\u001b[0m\u001b[0mparents\u001b[0m\u001b[0;34m)\u001b[0m\u001b[0;34m\u001b[0m\u001b[0;34m\u001b[0m\u001b[0m\n\u001b[1;32m     58\u001b[0m \u001b[0;34m\u001b[0m\u001b[0m\n\u001b[0;32m---> 59\u001b[0;31m     \u001b[0moffspring_crossover\u001b[0m \u001b[0;34m=\u001b[0m \u001b[0mcrossover\u001b[0m\u001b[0;34m(\u001b[0m\u001b[0mparents\u001b[0m\u001b[0;34m,\u001b[0m\u001b[0moffspring_size\u001b[0m\u001b[0;34m=\u001b[0m\u001b[0;34m(\u001b[0m\u001b[0mpop_size\u001b[0m\u001b[0;34m[\u001b[0m\u001b[0;36m0\u001b[0m\u001b[0;34m]\u001b[0m\u001b[0;34m-\u001b[0m\u001b[0mparents\u001b[0m\u001b[0;34m.\u001b[0m\u001b[0mshape\u001b[0m\u001b[0;34m[\u001b[0m\u001b[0;36m0\u001b[0m\u001b[0;34m]\u001b[0m\u001b[0;34m,\u001b[0m \u001b[0mnum_weights\u001b[0m\u001b[0;34m)\u001b[0m\u001b[0;34m)\u001b[0m\u001b[0;34m\u001b[0m\u001b[0;34m\u001b[0m\u001b[0m\n\u001b[0m\u001b[1;32m     60\u001b[0m     \u001b[0mprint\u001b[0m\u001b[0;34m(\u001b[0m\u001b[0;34m'crossover '\u001b[0m\u001b[0;34m,\u001b[0m\u001b[0moffspring_crossover\u001b[0m\u001b[0;34m)\u001b[0m\u001b[0;34m\u001b[0m\u001b[0;34m\u001b[0m\u001b[0m\n\u001b[1;32m     61\u001b[0m \u001b[0;34m\u001b[0m\u001b[0m\n",
            "\u001b[0;32m<ipython-input-30-0520efa7e1fd>\u001b[0m in \u001b[0;36mcrossover\u001b[0;34m(parents, offspring_size)\u001b[0m\n\u001b[1;32m     31\u001b[0m \u001b[0;32mdef\u001b[0m \u001b[0mcrossover\u001b[0m\u001b[0;34m(\u001b[0m\u001b[0mparents\u001b[0m\u001b[0;34m,\u001b[0m\u001b[0moffspring_size\u001b[0m\u001b[0;34m)\u001b[0m\u001b[0;34m:\u001b[0m\u001b[0;34m\u001b[0m\u001b[0;34m\u001b[0m\u001b[0m\n\u001b[1;32m     32\u001b[0m     \u001b[0moffspring\u001b[0m \u001b[0;34m=\u001b[0m \u001b[0mnumpy\u001b[0m\u001b[0;34m.\u001b[0m\u001b[0mempty\u001b[0m\u001b[0;34m(\u001b[0m\u001b[0moffspring_size\u001b[0m\u001b[0;34m)\u001b[0m\u001b[0;34m\u001b[0m\u001b[0;34m\u001b[0m\u001b[0m\n\u001b[0;32m---> 33\u001b[0;31m     \u001b[0mcrossover_point\u001b[0m \u001b[0;34m=\u001b[0m \u001b[0mnumpy\u001b[0m\u001b[0;34m.\u001b[0m\u001b[0minit\u001b[0m\u001b[0;34m(\u001b[0m\u001b[0moffspring_size\u001b[0m\u001b[0;34m[\u001b[0m\u001b[0;36m1\u001b[0m\u001b[0;34m]\u001b[0m\u001b[0;34m/\u001b[0m\u001b[0;36m2\u001b[0m\u001b[0;34m)\u001b[0m\u001b[0;34m\u001b[0m\u001b[0;34m\u001b[0m\u001b[0m\n\u001b[0m\u001b[1;32m     34\u001b[0m     \u001b[0;32mfor\u001b[0m \u001b[0mk\u001b[0m \u001b[0;32min\u001b[0m \u001b[0mrange\u001b[0m\u001b[0;34m(\u001b[0m\u001b[0moffspring_size\u001b[0m\u001b[0;34m[\u001b[0m\u001b[0;36m0\u001b[0m\u001b[0;34m]\u001b[0m\u001b[0;34m)\u001b[0m\u001b[0;34m:\u001b[0m\u001b[0;34m\u001b[0m\u001b[0;34m\u001b[0m\u001b[0m\n\u001b[1;32m     35\u001b[0m         \u001b[0;31m# index of the first parent to mate\u001b[0m\u001b[0;34m\u001b[0m\u001b[0;34m\u001b[0m\u001b[0;34m\u001b[0m\u001b[0m\n",
            "\u001b[0;32m/usr/local/lib/python3.7/dist-packages/numpy/__init__.py\u001b[0m in \u001b[0;36m__getattr__\u001b[0;34m(attr)\u001b[0m\n\u001b[1;32m    213\u001b[0m             \u001b[0;32melse\u001b[0m\u001b[0;34m:\u001b[0m\u001b[0;34m\u001b[0m\u001b[0;34m\u001b[0m\u001b[0m\n\u001b[1;32m    214\u001b[0m                 raise AttributeError(\"module {!r} has no attribute \"\n\u001b[0;32m--> 215\u001b[0;31m                                      \"{!r}\".format(__name__, attr))\n\u001b[0m\u001b[1;32m    216\u001b[0m \u001b[0;34m\u001b[0m\u001b[0m\n\u001b[1;32m    217\u001b[0m         \u001b[0;32mdef\u001b[0m \u001b[0m__dir__\u001b[0m\u001b[0;34m(\u001b[0m\u001b[0;34m)\u001b[0m\u001b[0;34m:\u001b[0m\u001b[0;34m\u001b[0m\u001b[0;34m\u001b[0m\u001b[0m\n",
            "\u001b[0;31mAttributeError\u001b[0m: module 'numpy' has no attribute 'init'"
          ]
        }
      ]
    }
  ]
}