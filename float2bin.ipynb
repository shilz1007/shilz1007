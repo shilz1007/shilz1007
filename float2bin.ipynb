{
  "nbformat": 4,
  "nbformat_minor": 0,
  "metadata": {
    "colab": {
      "name": "Untitled3.ipynb",
      "provenance": [],
      "authorship_tag": "ABX9TyOp/NODEzSa/u5zl0Biqy7j",
      "include_colab_link": true
    },
    "kernelspec": {
      "name": "python3",
      "display_name": "Python 3"
    },
    "language_info": {
      "name": "python"
    }
  },
  "cells": [
    {
      "cell_type": "markdown",
      "metadata": {
        "id": "view-in-github",
        "colab_type": "text"
      },
      "source": [
        "<a href=\"https://colab.research.google.com/github/shilz1007/shilz1007/blob/main/float2bin.ipynb\" target=\"_parent\"><img src=\"https://colab.research.google.com/assets/colab-badge.svg\" alt=\"Open In Colab\"/></a>"
      ]
    },
    {
      "cell_type": "code",
      "metadata": {
        "colab": {
          "base_uri": "https://localhost:8080/"
        },
        "id": "IrJVMW5Y4brZ",
        "outputId": "b7576eb2-4651-48e5-ba0c-eddd786a93ff"
      },
      "source": [
        "# Python program to convert float\n",
        "# decimal to binary number\n",
        "\n",
        "# Function returns octal representation\n",
        "def float_bin(number, places = 3):\n",
        "\n",
        "\t# split() seperates whole number and decimal\n",
        "\t# part and stores it in two seperate variables\n",
        "\twhole, dec = str(number).split(\".\")\n",
        "\n",
        "\t# Convert both whole number and decimal\n",
        "\t# part from string type to integer type\n",
        "\twhole = int(whole)\n",
        "\tdec = int (dec)\n",
        "\n",
        "\t# Convert the whole number part to it's\n",
        "\t# respective binary form and remove the\n",
        "\t# \"0b\" from it.\n",
        "\tres = bin(whole).lstrip(\"0b\") + \".\"\n",
        "\n",
        "\t# Iterate the number of times, we want\n",
        "\t# the number of decimal places to be\n",
        "\tfor x in range(places):\n",
        "\n",
        "\t\t# Multiply the decimal value by 2\n",
        "\t\t# and seperate the whole number part\n",
        "\t\t# and decimal part\n",
        "\t\twhole, dec = str((decimal_converter(dec)) * 2).split(\".\")\n",
        "\n",
        "\t\t# Convert the decimal part\n",
        "\t\t# to integer again\n",
        "\t\tdec = int(dec)\n",
        "\n",
        "\t\t# Keep adding the integer parts\n",
        "\t\t# receive to the result variable\n",
        "\t\tres += whole\n",
        "\n",
        "\treturn res\n",
        "\n",
        "# Function converts the value passed as\n",
        "# parameter to it's decimal representation\n",
        "def decimal_converter(num):\n",
        "\twhile num > 1:\n",
        "\t\tnum /= 10\n",
        "\treturn num\n",
        "\n",
        "# Driver Code\n",
        "\n",
        "# Take the user input for\n",
        "# the floating point number\n",
        "#n = input(\"Enter your floating point value : \\n\")\n",
        "n = 1.12345\n",
        "\n",
        "# Take user input for the number of\n",
        "# decimal places user want result as\n",
        "#p = int(input(\"Enter the number of decimal places of the result : \\n\"))\n",
        "p = 6\n",
        "\n",
        "Out = float_bin(n, places = p)\n",
        "print(Out)\n"
      ],
      "execution_count": 5,
      "outputs": [
        {
          "output_type": "stream",
          "name": "stdout",
          "text": [
            "1.000111\n"
          ]
        }
      ]
    }
  ]
}