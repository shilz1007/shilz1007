{
  "nbformat": 4,
  "nbformat_minor": 0,
  "metadata": {
    "colab": {
      "name": "In_Progress.ipynb",
      "provenance": [],
      "authorship_tag": "ABX9TyP1kV7Z+2gu09SVU/Mdt9DR",
      "include_colab_link": true
    },
    "kernelspec": {
      "name": "python3",
      "display_name": "Python 3"
    },
    "language_info": {
      "name": "python"
    }
  },
  "cells": [
    {
      "cell_type": "markdown",
      "metadata": {
        "id": "view-in-github",
        "colab_type": "text"
      },
      "source": [
        "<a href=\"https://colab.research.google.com/github/shilz1007/shilz1007/blob/main/In_Progress.ipynb\" target=\"_parent\"><img src=\"https://colab.research.google.com/assets/colab-badge.svg\" alt=\"Open In Colab\"/></a>"
      ]
    },
    {
      "cell_type": "code",
      "metadata": {
        "id": "5SCpa8yTljfm"
      },
      "source": [
        "import gym"
      ],
      "execution_count": null,
      "outputs": []
    },
    {
      "cell_type": "code",
      "metadata": {
        "id": "x0BXSUfb_I5Z"
      },
      "source": [
        "def float_bin(number, places = 3):\n",
        "\twhole, dec = str(number).split(\".\")\n",
        "\twhole = int(whole)\n",
        "\tdec = int (dec)\n",
        "\tres = bin(whole).lstrip(\"0b\") + \".\"\n",
        "\tfor x in range(places):\n",
        "\t\twhole, dec = str((decimal_converter(dec)) * 2).split(\".\")\n",
        "\t\tdec = int(dec)\n",
        "\t\tres += whole\n",
        "\n",
        "\treturn res\n",
        "\n",
        "def decimal_converter(num):\n",
        "\twhile num > 1:\n",
        "\t\tnum /= 10\n",
        "\treturn num\n",
        "\n",
        "#n = 1.12345\n"
      ],
      "execution_count": null,
      "outputs": []
    },
    {
      "cell_type": "code",
      "metadata": {
        "id": "yx0TzAq2J_Bf"
      },
      "source": [
        "def convert_whole(x1):\n",
        "  x1c = x1 * 100000000\n",
        "  return x1c  "
      ],
      "execution_count": null,
      "outputs": []
    },
    {
      "cell_type": "code",
      "metadata": {
        "id": "t3_nzPqiqNOV"
      },
      "source": [
        "def CartPole(x):\n",
        "  env = gym.make('CartPole-v0')\n",
        "  env.reset()\n",
        "  for _ in range(1):\n",
        "##    env.render()\n",
        "##    env.step(env.action_space.sample()) # take a random action\n",
        "    o, r, d, i = env.step(env.action_space.sample())\n",
        "    env.close()\n",
        "#print('observation', o)\n",
        "#print('reward', r)\n",
        "#print('done', d)\n",
        "#print('info', i)\n",
        "  p = 8\n",
        "  f1 = float_bin(o[0], places = p)\n",
        "  f2 = float_bin(o[1], places = p)\n",
        "  f3 = float_bin(o[2], places = p)\n",
        "  f4 = float_bin(o[3], places = p)\n",
        "  print(f1)\n",
        "  print(f2)\n",
        "  print(f3)\n",
        "  print(f4)\n",
        "# converting to whole number\n",
        "  f1_whole = convert_whole(f1)\n",
        "  f2_whole = convert_whole(f2)\n",
        "  f3_whole = convert_whole(f3)\n",
        "  f4_whole = convert_whole(f4)\n",
        "\n",
        "  print(f1_whole)\n",
        "  print(f2_whole)\n",
        "  print(f3_whole)\n",
        "  print(f4_whole)"
      ],
      "execution_count": null,
      "outputs": []
    },
    {
      "cell_type": "code",
      "metadata": {
        "id": "7yEd4XtaM7E7"
      },
      "source": [
        "if __name__ == '__main__':"
      ],
      "execution_count": null,
      "outputs": []
    }
  ]
}